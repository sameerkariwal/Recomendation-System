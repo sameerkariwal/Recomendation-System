{
 "cells": [
  {
   "cell_type": "code",
   "execution_count": 21,
   "metadata": {
    "collapsed": true,
    "jupyter": {
     "outputs_hidden": true
    }
   },
   "outputs": [
    {
     "name": "stdout",
     "output_type": "stream",
     "text": [
      "Requirement already satisfied: transformers in c:\\users\\sumitjain\\documents\\anaconda3\\lib\\site-packages (3.0.2)\n",
      "Requirement already satisfied: filelock in c:\\users\\sumitjain\\documents\\anaconda3\\lib\\site-packages (from transformers) (3.0.12)\n",
      "Requirement already satisfied: sacremoses in c:\\users\\sumitjain\\documents\\anaconda3\\lib\\site-packages (from transformers) (0.0.43)\n",
      "Requirement already satisfied: sentencepiece!=0.1.92 in c:\\users\\sumitjain\\documents\\anaconda3\\lib\\site-packages (from transformers) (0.1.91)\n",
      "Requirement already satisfied: tqdm>=4.27 in c:\\users\\sumitjain\\documents\\anaconda3\\lib\\site-packages (from transformers) (4.36.1)\n",
      "Requirement already satisfied: requests in c:\\users\\sumitjain\\documents\\anaconda3\\lib\\site-packages (from transformers) (2.22.0)\n",
      "Requirement already satisfied: regex!=2019.12.17 in c:\\users\\sumitjain\\documents\\anaconda3\\lib\\site-packages (from transformers) (2020.6.8)\n",
      "Requirement already satisfied: numpy in c:\\users\\sumitjain\\documents\\anaconda3\\lib\\site-packages (from transformers) (1.16.5)\n",
      "Requirement already satisfied: packaging in c:\\users\\sumitjain\\documents\\anaconda3\\lib\\site-packages (from transformers) (19.2)\n",
      "Requirement already satisfied: tokenizers==0.8.1.rc1 in c:\\users\\sumitjain\\documents\\anaconda3\\lib\\site-packages (from transformers) (0.8.1rc1)\n",
      "Requirement already satisfied: six in c:\\users\\sumitjain\\documents\\anaconda3\\lib\\site-packages (from sacremoses->transformers) (1.12.0)\n",
      "Requirement already satisfied: click in c:\\users\\sumitjain\\documents\\anaconda3\\lib\\site-packages (from sacremoses->transformers) (7.0)\n",
      "Requirement already satisfied: joblib in c:\\users\\sumitjain\\documents\\anaconda3\\lib\\site-packages (from sacremoses->transformers) (0.13.2)\n",
      "Requirement already satisfied: certifi>=2017.4.17 in c:\\users\\sumitjain\\documents\\anaconda3\\lib\\site-packages (from requests->transformers) (2019.9.11)\n",
      "Requirement already satisfied: urllib3!=1.25.0,!=1.25.1,<1.26,>=1.21.1 in c:\\users\\sumitjain\\documents\\anaconda3\\lib\\site-packages (from requests->transformers) (1.24.2)\n",
      "Requirement already satisfied: idna<2.9,>=2.5 in c:\\users\\sumitjain\\documents\\anaconda3\\lib\\site-packages (from requests->transformers) (2.8)\n",
      "Requirement already satisfied: chardet<3.1.0,>=3.0.2 in c:\\users\\sumitjain\\documents\\anaconda3\\lib\\site-packages (from requests->transformers) (3.0.4)\n",
      "Requirement already satisfied: pyparsing>=2.0.2 in c:\\users\\sumitjain\\documents\\anaconda3\\lib\\site-packages (from packaging->transformers) (2.4.2)\n"
     ]
    }
   ],
   "source": [
    "# !conda install pytorch\n",
    "# !pip install -U sentence-transformers\n",
    "# !pip install transformers\n",
    "# !pwd"
   ]
  },
  {
   "cell_type": "code",
   "execution_count": 5,
   "metadata": {},
   "outputs": [],
   "source": [
    "import re\n",
    "import torch\n",
    "import numpy as np\n",
    "from transformers import AutoModel, AutoTokenizer\n",
    "from sentence_transformers import SentenceTransformer\n",
    "import import_ipynb\n",
    "import os\n",
    "import sys\n",
    "sys.path.append(os.path.abspath(os.path.join('__file__','../../')))\n",
    "# from modules import evaluations \n",
    "from modules import data_processing\n",
    "import pandas as pd\n",
    "pd.set_option('max_colwidth', -1)"
   ]
  },
  {
   "cell_type": "code",
   "execution_count": 4,
   "metadata": {},
   "outputs": [
    {
     "name": "stderr",
     "output_type": "stream",
     "text": [
      "C:\\Users\\SumitJain\\Documents\\Anaconda3\\lib\\site-packages\\IPython\\core\\interactiveshell.py:3249: DtypeWarning: Columns (4) have mixed types. Specify dtype option on import or set low_memory=False.\n",
      "  if (await self.run_code(code, result,  async_=asy)):\n"
     ]
    },
    {
     "data": {
      "text/plain": [
       "(3047, 13)"
      ]
     },
     "execution_count": 4,
     "metadata": {},
     "output_type": "execute_result"
    }
   ],
   "source": [
    "# loading all articles data from general data processing code\n",
    "\n",
    "all_plat_articles,user_behaviour_df = data_processing.reading_content_data()\n",
    "# all_plat_articles.head(1)\n",
    "all_plat_articles.shape"
   ]
  },
  {
   "cell_type": "code",
   "execution_count": 5,
   "metadata": {},
   "outputs": [
    {
     "name": "stdout",
     "output_type": "stream",
     "text": [
      "number of unique values in each column \n",
      "\n",
      "event_timestamp         3046\n",
      "interaction_type        1   \n",
      "item_id                 3047\n",
      "producer_id             252 \n",
      "producer_session_id     2010\n",
      "producer_device_info    114 \n",
      "producer_location       19  \n",
      "producer_country        5   \n",
      "item_type               3   \n",
      "item_url                3023\n",
      "title                   3003\n",
      "text_description        3013\n",
      "language                5   \n",
      "dtype: int64\n",
      "\n",
      "looking at language wise distribution for articles \n",
      "\n",
      "en    2211\n",
      "pt    829 \n",
      "la    3   \n",
      "es    2   \n",
      "ja    2   \n",
      "Name: language, dtype: int64\n"
     ]
    }
   ],
   "source": [
    "print(\"number of unique values in each column \\n\")\n",
    "print(all_plat_articles.nunique())\n",
    "print(\"\\nlooking at language wise distribution for articles \\n\")\n",
    "print(all_plat_articles.language.value_counts())\n"
   ]
  },
  {
   "cell_type": "markdown",
   "metadata": {},
   "source": [
    "##### we majorly have two langauages english and portuguese for which we need to find similar articles, individually "
   ]
  },
  {
   "cell_type": "markdown",
   "metadata": {},
   "source": [
    "### Processing portuguese articles text "
   ]
  },
  {
   "cell_type": "code",
   "execution_count": 6,
   "metadata": {
    "collapsed": true,
    "jupyter": {
     "outputs_hidden": true
    }
   },
   "outputs": [
    {
     "name": "stdout",
     "output_type": "stream",
     "text": [
      "829\n",
      "10      False\n",
      "16      False\n",
      "17      False\n",
      "21      False\n",
      "23      False\n",
      "        ...  \n",
      "3107    False\n",
      "3108    False\n",
      "3109    False\n",
      "3111    False\n",
      "3117    False\n",
      "Name: title, Length: 829, dtype: bool\n"
     ]
    },
    {
     "data": {
      "text/html": [
       "<div>\n",
       "<style scoped>\n",
       "    .dataframe tbody tr th:only-of-type {\n",
       "        vertical-align: middle;\n",
       "    }\n",
       "\n",
       "    .dataframe tbody tr th {\n",
       "        vertical-align: top;\n",
       "    }\n",
       "\n",
       "    .dataframe thead th {\n",
       "        text-align: right;\n",
       "    }\n",
       "</style>\n",
       "<table border=\"1\" class=\"dataframe\">\n",
       "  <thead>\n",
       "    <tr style=\"text-align: right;\">\n",
       "      <th></th>\n",
       "      <th>event_timestamp</th>\n",
       "      <th>interaction_type</th>\n",
       "      <th>item_id</th>\n",
       "      <th>producer_id</th>\n",
       "      <th>producer_session_id</th>\n",
       "      <th>producer_device_info</th>\n",
       "      <th>producer_location</th>\n",
       "      <th>producer_country</th>\n",
       "      <th>item_type</th>\n",
       "      <th>item_url</th>\n",
       "      <th>title</th>\n",
       "      <th>text_description</th>\n",
       "      <th>language</th>\n",
       "    </tr>\n",
       "  </thead>\n",
       "  <tbody>\n",
       "    <tr>\n",
       "      <td>10</td>\n",
       "      <td>1459210504</td>\n",
       "      <td>content_present</td>\n",
       "      <td>-9157338616628196758</td>\n",
       "      <td>5206835909720479405</td>\n",
       "      <td>-7864441319395545950</td>\n",
       "      <td>NaN</td>\n",
       "      <td>NaN</td>\n",
       "      <td>NaN</td>\n",
       "      <td>HTML</td>\n",
       "      <td>http://economia.ig.com.br/2016-03-27/situacao-financeira-ruim-de-varejistas-pressiona-shoppings-e-eleva-renegociacoes.html</td>\n",
       "      <td>Situação financeira ruim de varejistas pressiona shoppings e eleva renegociações - Home - iG</td>\n",
       "      <td>A queda nas vendas e a deterioração na situação financeira de varejistas têm forçado shoppings a renegociar algumas das obrigações dos lojistas nos custos de ocupação de pontos de venda. O cenário se intensificou para além da negociação de descontos pontuais, com parcelamentos que miram evitar a inadimplência e até mesmo o aumento das taxas de vacância. Arquivo/Agência Brasil Shopping centers estão entre os estabelecimentos que mais contratam no fim de ano O diretor de expansão da varejista Hope, Sylvio Korytowski, relata que muitos shoppings aceitaram congelar o vencimento de parcelas das chamadas \"luvas\", tarifas cobradas de novos locatários para garantir o \"direito\" de utilização de um determinado ponto em um shopping. As quantias, que variam de acordo com a demanda, normalmente são parceladas em 12 ou 24 meses, mas agora lojistas têm conseguido uma espécie de \"perdão temporário\", passando algum tempo sem pagar e conseguindo mais meses para quitar os valores. O preço pode ser negociado entre um lojista que sai do local e um que está chegando, mas geralmente parte do montante é destinada ao operador do shopping. \"Às vezes, quando um shopping vai mal, tem empreendedor que oferece um aluguel quase zerado para o lojista porque, se o espaço fica vago, quem paga o custo de energia, segurança, limpeza e outras coisas do dia a dia é o shopping\", explica um executivo do setor, que preferiu não se identificar. \"Nesse casos, não existe nenhuma possibilidade de o shopping cobrar luvas\", acrescenta. O esforço dos shoppings é impedir que lojas importantes fechem em meio a alta de custos e venda fraca, mas a renegociação também ofusca eventuais riscos de um estouro de inadimplência. A CEO da GS&amp;AGR Consultores, Ana Paula Tozzi, avalia que os efeitos do quadro financeiro ruim dos varejistas ainda não aparecem totalmente nas provisões para inadimplência dos operadores de shopping, mas considera que muitos lojistas estão em dificuldade para pagar obrigações e pedindo refinanciamentos e renegociações. Fato é que a inadimplência tem aumentado em alguns centros de compras. Nos empreendimentos da BRMalls, a expectativa é que a taxa tenha um \"aumento pequeno\" no primeiro trimestre em comparação com igual intervalo do ano passado, quando estava em 4,4%. Já os atrasos superiores a 25 dias no pagamento de alugueis nos shopping centers da Multiplan subiram para 1,9% no quarto trimestre de 2015, de 1,7% em igual período do ano anterior. No mesmo período, a taxa de perda de aluguel aumentou para 1,2%, de 0,6%. O momento de enfraquecimento das vendas tem levado algumas lojas a dificuldades financeiras e, em alguns casos, culminado em processos de recuperação judicial. É o que ocorreu com o grupo GEP, dono das marcas Luigi Bertolli, Cori e franqueado da marca norte-americana GAP no Brasil. O grupo, que opera 97 lojas no Brasil, a maioria em shoppings, afirmou no pedido de recuperação judicial que \"o volume de vendas diminuiu consideravelmente\" em meio a crise macroeconômica. Varejistas relatam ainda que concessões estão sendo feitas mesmo em shoppings considerados \"de primeira linha\", ou seja, os que têm maior fluxo de clientes. Um exemplo citado por representantes de grandes redes do varejo é o da Iguatemi. Segundo eles, a companhia está concedendo descontos em shoppings da capital paulista em troca de impedir que as redes fechem lojas em centros comerciais da grande São Paulo e interior, os quais os varejistas veem com menos interesse. Ao Broadcast, serviço em tempo real da Agência Estaado, a diretora financeira e de relações com investidores da Iguatemi, Cristina Betts, diz que não há uma política única em relação aos descontos. \"Depende muito dos grupos de varejo de que estamos falando e dos locais onde temos lojas com eles. Não dá para dizer que existe uma lógica apenas\", afirma. Por ter concedido mais descontos, a companhia conseguiu reduzir sua taxa de inadimplência para 1,1% no quarto trimestre de 2015, saindo de 1 8% em igual período do ano anterior. \"Tivemos em 2015 um esforço de antecipar movimentos de descontos, principalmente em shoppings em maturação\", diz. \"Preferimos que o lojista fique bem e sobreviva, diminuindo a inadimplência. Houve um aumento de desconto em 2015, mas esperamos que fique estável em 2016\", acrescenta. Para Korytowski, o desafio das negociações hoje é que há uma massa muito grande de lojistas em dificuldades e pedindo ajuda. Isso torna difícil a tarefa do shopping de identificar quem de fato pode sobreviver com algum tipo de renegociação, já que em alguns casos isso não é suficiente para evitar o fechamento das lojas. \"No cenário atual, todo mundo pede ajuda, quem precisa e quem não precisa. Faz parte do nosso trabalho identificar quem precisa e quem queremos dentro dos shoppings. Não adianta tentar ajudar um lojista que não tem futuro\", afirma a diretora do Iguatemi, ao lembrar o fechamento da Nôa Nôa no Iguatemi São Paulo, em 2008, que abriu espaço para a chegada da Channel. \"Em épocas de mais dificuldades, tem um movimento mais acelerado de substituição de marcas que não mostram um desempenho tão bom. São poucas as marcas eternas\", acrescenta. Veja fotos dos Mall of the World, o maior shopping do mundo</td>\n",
       "      <td>pt</td>\n",
       "    </tr>\n",
       "  </tbody>\n",
       "</table>\n",
       "</div>"
      ],
      "text/plain": [
       "    event_timestamp interaction_type              item_id  \\\n",
       "10  1459210504       content_present -9157338616628196758   \n",
       "\n",
       "            producer_id  producer_session_id producer_device_info  \\\n",
       "10  5206835909720479405 -7864441319395545950  NaN                   \n",
       "\n",
       "   producer_location producer_country item_type  \\\n",
       "10  NaN               NaN              HTML       \n",
       "\n",
       "                                                                                                                      item_url  \\\n",
       "10  http://economia.ig.com.br/2016-03-27/situacao-financeira-ruim-de-varejistas-pressiona-shoppings-e-eleva-renegociacoes.html   \n",
       "\n",
       "                                                                                           title  \\\n",
       "10  Situação financeira ruim de varejistas pressiona shoppings e eleva renegociações - Home - iG   \n",
       "\n",
       "                                                                                                                                                                                                                                                                                                                                                                                                                                                                                                                                                                                                                                                                                                                                                                                                                                                                                                                                                                                                                                                                                                                                                                                                                                                                                                                                                                                                                                                                                                                                                                                                                                                                                                                                                                                                                                                                                                                                                                                                                                                                                                                                                                                                                                                                                                                                                                                                                                                                                                                                                                                                                                                                                                                                                                                                                                                                                                                                                                                                                                                                                                                                                                                                                                                                                                                                                                                                                                                                                                                                                                                                                                                                                                                                                                                                                                                                                                                                                                                                                                                                                                                                                                                                                                                                                                                                                                                                                                                                                                                                                                                                                                                                                                                                                                                                                                                                                                                                                                                                                                                                                                                                                                                                                                                                                                                                                                                                             text_description  \\\n",
       "10  A queda nas vendas e a deterioração na situação financeira de varejistas têm forçado shoppings a renegociar algumas das obrigações dos lojistas nos custos de ocupação de pontos de venda. O cenário se intensificou para além da negociação de descontos pontuais, com parcelamentos que miram evitar a inadimplência e até mesmo o aumento das taxas de vacância. Arquivo/Agência Brasil Shopping centers estão entre os estabelecimentos que mais contratam no fim de ano O diretor de expansão da varejista Hope, Sylvio Korytowski, relata que muitos shoppings aceitaram congelar o vencimento de parcelas das chamadas \"luvas\", tarifas cobradas de novos locatários para garantir o \"direito\" de utilização de um determinado ponto em um shopping. As quantias, que variam de acordo com a demanda, normalmente são parceladas em 12 ou 24 meses, mas agora lojistas têm conseguido uma espécie de \"perdão temporário\", passando algum tempo sem pagar e conseguindo mais meses para quitar os valores. O preço pode ser negociado entre um lojista que sai do local e um que está chegando, mas geralmente parte do montante é destinada ao operador do shopping. \"Às vezes, quando um shopping vai mal, tem empreendedor que oferece um aluguel quase zerado para o lojista porque, se o espaço fica vago, quem paga o custo de energia, segurança, limpeza e outras coisas do dia a dia é o shopping\", explica um executivo do setor, que preferiu não se identificar. \"Nesse casos, não existe nenhuma possibilidade de o shopping cobrar luvas\", acrescenta. O esforço dos shoppings é impedir que lojas importantes fechem em meio a alta de custos e venda fraca, mas a renegociação também ofusca eventuais riscos de um estouro de inadimplência. A CEO da GS&AGR Consultores, Ana Paula Tozzi, avalia que os efeitos do quadro financeiro ruim dos varejistas ainda não aparecem totalmente nas provisões para inadimplência dos operadores de shopping, mas considera que muitos lojistas estão em dificuldade para pagar obrigações e pedindo refinanciamentos e renegociações. Fato é que a inadimplência tem aumentado em alguns centros de compras. Nos empreendimentos da BRMalls, a expectativa é que a taxa tenha um \"aumento pequeno\" no primeiro trimestre em comparação com igual intervalo do ano passado, quando estava em 4,4%. Já os atrasos superiores a 25 dias no pagamento de alugueis nos shopping centers da Multiplan subiram para 1,9% no quarto trimestre de 2015, de 1,7% em igual período do ano anterior. No mesmo período, a taxa de perda de aluguel aumentou para 1,2%, de 0,6%. O momento de enfraquecimento das vendas tem levado algumas lojas a dificuldades financeiras e, em alguns casos, culminado em processos de recuperação judicial. É o que ocorreu com o grupo GEP, dono das marcas Luigi Bertolli, Cori e franqueado da marca norte-americana GAP no Brasil. O grupo, que opera 97 lojas no Brasil, a maioria em shoppings, afirmou no pedido de recuperação judicial que \"o volume de vendas diminuiu consideravelmente\" em meio a crise macroeconômica. Varejistas relatam ainda que concessões estão sendo feitas mesmo em shoppings considerados \"de primeira linha\", ou seja, os que têm maior fluxo de clientes. Um exemplo citado por representantes de grandes redes do varejo é o da Iguatemi. Segundo eles, a companhia está concedendo descontos em shoppings da capital paulista em troca de impedir que as redes fechem lojas em centros comerciais da grande São Paulo e interior, os quais os varejistas veem com menos interesse. Ao Broadcast, serviço em tempo real da Agência Estaado, a diretora financeira e de relações com investidores da Iguatemi, Cristina Betts, diz que não há uma política única em relação aos descontos. \"Depende muito dos grupos de varejo de que estamos falando e dos locais onde temos lojas com eles. Não dá para dizer que existe uma lógica apenas\", afirma. Por ter concedido mais descontos, a companhia conseguiu reduzir sua taxa de inadimplência para 1,1% no quarto trimestre de 2015, saindo de 1 8% em igual período do ano anterior. \"Tivemos em 2015 um esforço de antecipar movimentos de descontos, principalmente em shoppings em maturação\", diz. \"Preferimos que o lojista fique bem e sobreviva, diminuindo a inadimplência. Houve um aumento de desconto em 2015, mas esperamos que fique estável em 2016\", acrescenta. Para Korytowski, o desafio das negociações hoje é que há uma massa muito grande de lojistas em dificuldades e pedindo ajuda. Isso torna difícil a tarefa do shopping de identificar quem de fato pode sobreviver com algum tipo de renegociação, já que em alguns casos isso não é suficiente para evitar o fechamento das lojas. \"No cenário atual, todo mundo pede ajuda, quem precisa e quem não precisa. Faz parte do nosso trabalho identificar quem precisa e quem queremos dentro dos shoppings. Não adianta tentar ajudar um lojista que não tem futuro\", afirma a diretora do Iguatemi, ao lembrar o fechamento da Nôa Nôa no Iguatemi São Paulo, em 2008, que abriu espaço para a chegada da Channel. \"Em épocas de mais dificuldades, tem um movimento mais acelerado de substituição de marcas que não mostram um desempenho tão bom. São poucas as marcas eternas\", acrescenta. Veja fotos dos Mall of the World, o maior shopping do mundo   \n",
       "\n",
       "   language  \n",
       "10  pt       "
      ]
     },
     "execution_count": 6,
     "metadata": {},
     "output_type": "execute_result"
    }
   ],
   "source": [
    "#creating embeddings and similarity for portuguese articles text first, we will be doing the same for english\n",
    "\n",
    "plat_articles_port = all_plat_articles[all_plat_articles.language.isin([\"pt\"])]\n",
    "plat_articles_english = all_plat_articles[all_plat_articles.language.isin([\"en\"])]\n",
    "\n",
    "\n",
    "print(plat_articles_port.item_id.nunique())\n",
    "print(plat_articles_port['title'].isnull())\n",
    "# plat_articles_port.head(1)"
   ]
  },
  {
   "cell_type": "code",
   "execution_count": 7,
   "metadata": {},
   "outputs": [
    {
     "data": {
      "text/plain": [
       "(829, 3)"
      ]
     },
     "execution_count": 7,
     "metadata": {},
     "output_type": "execute_result"
    }
   ],
   "source": [
    "# data filtering and cleaning modules\n",
    "\n",
    "\n",
    "def plat_data_cleaning(plat_articles_port):\n",
    "\n",
    "    plat_articles_port = plat_articles_port.drop_duplicates()\n",
    "    plat_articles_port.drop(plat_articles_port[plat_articles_port.isnull().all(axis=1)].index, inplace=True)\n",
    "    plat_articles_port.shape\n",
    "    plat_articles_port = plat_articles_port[['item_id','title','text_description']]\n",
    "    \n",
    "    return plat_articles_port\n",
    "\n",
    "#processing string in text\n",
    "def article_strings(text): \n",
    "\n",
    "    text= re.sub(r\"\\'s\", \" \\'s\",text)\n",
    "    text= re.sub(r\"\\'ve\", \" \\'ve\",text)\n",
    "    text= re.sub(r\"n\\'t\", \" n\\'t\",text)\n",
    "    text= re.sub(r\"\\'re\", \" \\'re\",text)\n",
    "    text= re.sub(r\"\\'d\", \" \\'d\",text)\n",
    "    text= re.sub(r\"\\'ll\", \" \\'ll\",text)\n",
    "    text= re.sub(r\",\", \" , \",text)\n",
    "    text= re.sub(r\"!\", \" ! \",text)\n",
    "    text= re.sub(r\"\\(\", \" \\( \",text)\n",
    "    text= re.sub(r\"\\)\", \" \\) \",text)\n",
    "    text= re.sub(r\"\\?\", \" \\? \",text)\n",
    "    text= re.sub(r\"\\s{2,}\", \" \",text)\n",
    "#     text= re.sub(r'\\S*(x{2,}|X{2,})\\S*',\"xxx\",text)\n",
    "#     text= re.sub(r'[^\\x00-\\x7F]+', \"\",text)\n",
    "    text= re.sub(\" \\d+\", \"\",text)   #added\n",
    "    text= re.sub(\"^\\d+\\s|\\s\\d+\\s|\\s\\d+$\", \" \",text)  \n",
    "    text= re.sub(r\"-\",\" \",text)\n",
    "    \n",
    "    text = re.findall(r'\\w+', text.lower())\n",
    "    processed_text = ' '.join(text)\n",
    "    \n",
    "    return processed_text\n",
    "    \n",
    "plat_articles_port = plat_data_cleaning(plat_articles_port) \n",
    "plat_articles_port['text_description'] = plat_articles_port['text_description'].apply(article_strings)\n",
    "plat_articles_port['port_title'] = plat_articles_port['title'].apply(article_strings)\n",
    "plat_articles_port = plat_articles_port.drop(['title'],axis=1)\n",
    "\n",
    "# plat_articles_port.head(1)\n",
    "plat_articles_port.shape"
   ]
  },
  {
   "cell_type": "code",
   "execution_count": 8,
   "metadata": {},
   "outputs": [
    {
     "name": "stdout",
     "output_type": "stream",
     "text": [
      "(829, 2)\n"
     ]
    }
   ],
   "source": [
    "# concatenating texts in columns\n",
    "# other methods to do the same,\n",
    "# plat_articles_port['complete_text']  = plat_articles_port['title'] + plat_articles_port['text_description']\n",
    "# or in case multiple columns use below\n",
    "# plat_articles_port['complete_text'] = plat_articles_port[['title', 'text_description']].agg(' - '.join, axis=1)\n",
    "# or below to also check if null value add '?'\n",
    "\n",
    "plat_articles_port['port_complete_text'] = plat_articles_port.port_title.str.cat(plat_articles_port['text_description'], sep=' - ', na_rep='?')\n",
    "plat_articles_port = plat_articles_port.drop(columns = ['port_title','text_description'],axis=1).dropna()\n",
    "print(plat_articles_port.shape)"
   ]
  },
  {
   "cell_type": "code",
   "execution_count": 9,
   "metadata": {},
   "outputs": [
    {
     "name": "stdout",
     "output_type": "stream",
     "text": [
      "(829, 2)\n"
     ]
    }
   ],
   "source": [
    "port_plat_articles_all = plat_articles_port.drop_duplicates()\n",
    "print(plat_articles_port.shape)\n",
    "# plat_articles_port.head(1)"
   ]
  },
  {
   "cell_type": "code",
   "execution_count": 83,
   "metadata": {},
   "outputs": [
    {
     "name": "stderr",
     "output_type": "stream",
     "text": [
      "C:\\Users\\SumitJain\\Documents\\Anaconda3\\lib\\site-packages\\ipykernel_launcher.py:18: SettingWithCopyWarning: \n",
      "A value is trying to be set on a copy of a slice from a DataFrame.\n",
      "Try using .loc[row_indexer,col_indexer] = value instead\n",
      "\n",
      "See the caveats in the documentation: http://pandas.pydata.org/pandas-docs/stable/user_guide/indexing.html#returning-a-view-versus-a-copy\n"
     ]
    }
   ],
   "source": [
    "def embedding_generation(model_class,sentence):\n",
    "    \n",
    "    # getting bert for portuguese text\n",
    "    tokenizer = AutoTokenizer.from_pretrained(model_class)\n",
    "    model = AutoModel.from_pretrained(model_class)\n",
    "    # encoding text\n",
    "    input_ids = torch.tensor([tokenizer.encode(str(sentence), add_special_tokens=True)])\n",
    "    model = model.resize_token_embeddings(len(tokenizer))\n",
    "    # special tokens takes care of adding [CLS], [SEP], <s>... tokens in the right way for each model.\n",
    "    with torch.no_grad():\n",
    "         last_hidden_states = model(input_ids)[0]  # Models outputs are now tuples\n",
    "              \n",
    "    return last_hidden_states.np()\n",
    "\n",
    "port_model_class = 'neuralmind/bert-base-portuguese-cased'\n",
    "plat_articles_port = port_plat_articles_all[:10]\n",
    "# plat_articles_port.shape\n",
    "plat_articles_port['port_text_embeddings'] = plat_articles_port.apply(lambda x: embedding_generation(port_model_class,x.port_complete_text), axis=1)\n",
    "# plat_articles_port.head(10)"
   ]
  },
  {
   "cell_type": "code",
   "execution_count": 84,
   "metadata": {},
   "outputs": [
    {
     "data": {
      "text/plain": [
       "(10, 3)"
      ]
     },
     "execution_count": 84,
     "metadata": {},
     "output_type": "execute_result"
    }
   ],
   "source": [
    "plat_articles_port.shape"
   ]
  },
  {
   "cell_type": "markdown",
   "metadata": {},
   "source": [
    "### Processing english articles text "
   ]
  },
  {
   "cell_type": "code",
   "execution_count": 85,
   "metadata": {
    "collapsed": true,
    "jupyter": {
     "outputs_hidden": true
    }
   },
   "outputs": [
    {
     "data": {
      "text/html": [
       "<div>\n",
       "<style scoped>\n",
       "    .dataframe tbody tr th:only-of-type {\n",
       "        vertical-align: middle;\n",
       "    }\n",
       "\n",
       "    .dataframe tbody tr th {\n",
       "        vertical-align: top;\n",
       "    }\n",
       "\n",
       "    .dataframe thead th {\n",
       "        text-align: right;\n",
       "    }\n",
       "</style>\n",
       "<table border=\"1\" class=\"dataframe\">\n",
       "  <thead>\n",
       "    <tr style=\"text-align: right;\">\n",
       "      <th></th>\n",
       "      <th>event_timestamp</th>\n",
       "      <th>interaction_type</th>\n",
       "      <th>item_id</th>\n",
       "      <th>producer_id</th>\n",
       "      <th>producer_session_id</th>\n",
       "      <th>producer_device_info</th>\n",
       "      <th>producer_location</th>\n",
       "      <th>producer_country</th>\n",
       "      <th>item_type</th>\n",
       "      <th>item_url</th>\n",
       "      <th>title</th>\n",
       "      <th>text_description</th>\n",
       "      <th>language</th>\n",
       "    </tr>\n",
       "  </thead>\n",
       "  <tbody>\n",
       "    <tr>\n",
       "      <td>1</td>\n",
       "      <td>1459193988</td>\n",
       "      <td>content_present</td>\n",
       "      <td>-4110354420726924665</td>\n",
       "      <td>4340306774493623681</td>\n",
       "      <td>8940341205206233829</td>\n",
       "      <td>NaN</td>\n",
       "      <td>NaN</td>\n",
       "      <td>NaN</td>\n",
       "      <td>HTML</td>\n",
       "      <td>http://www.nytimes.com/2016/03/28/business/dealbook/ethereum-a-virtual-currency-enables-transactions-that-rival-bitcoins.html</td>\n",
       "      <td>Ethereum, a Virtual Currency, Enables Transactions That Rival Bitcoin's</td>\n",
       "      <td>All of this work is still very early. The first full public version of the Ethereum software was recently released, and the system could face some of the same technical and legal problems that have tarnished Bitcoin. Many Bitcoin advocates say Ethereum will face more security problems than Bitcoin because of the greater complexity of the software. Thus far, Ethereum has faced much less testing, and many fewer attacks, than Bitcoin. The novel design of Ethereum may also invite intense scrutiny by authorities given that potentially fraudulent contracts, like the Ponzi schemes, can be written directly into the Ethereum system. But the sophisticated capabilities of the system have made it fascinating to some executives in corporate America. IBM said last year that it was experimenting with Ethereum as a way to control real world objects in the so-called Internet of things. Microsoft has been working on several projects that make it easier to use Ethereum on its computing cloud, Azure. \"Ethereum is a general platform where you can solve problems in many industries using a fairly elegant solution - the most elegant solution we have seen to date,\" said Marley Gray, a director of business development and strategy at Microsoft. Mr. Gray is responsible for Microsoft's work with blockchains, the database concept that Bitcoin introduced. Blockchains are designed to store transactions and data without requiring any central authority or repository. Blockchain ledgers are generally maintained and updated by networks of computers working together - somewhat similar to the way that Wikipedia is updated and maintained by all its users. Many corporations, though, have created their own Ethereum networks with private blockchains, independent of the public system, and that could ultimately detract from the value of the individual unit in the Ethereum system - known as an Ether - that people have recently been buying. The interest in Ethereum is one sign of the corporate fascination with blockchains. Most major banks have expressed an interest in using them to make trading and money transfer faster and more efficient. On Tuesday, executives from the largest banks will gather for a conference, \"Blockchain: Tapping I nto the Real Potential , Cutting Through the Hype.\" Many of these banks have recently been looking at how some version of Ethereum might be put to use. JPMorgan, for instance, has created a specific tool, Masala, that allows some of its internal databases to interact with an Ethereum blockchain. Michael Novogratz, a former top executive at the private equity firm Fortress Investing Group, who helped lead Fortress's investment in Bitcoin, has been looking at Ethereum since he left Fortress last fall. Mr. Novogratz said that he made a \"significant\" purchase of Ether in January. He has also heard how the financial industry's chatter about the virtual currency has evolved. \"A lot of the more established players were thinking, 'It's still an experiment,' \" he said. \"It feels like in the last two to three months that experiment is at least getting a lot more validation.\" Since the beginning of the year, the value of an individual unit of Ether has soared as high as $12 from around $1. That has brought the value of all existing Ether to over $1 billion at times, significantly more than any virtual currency other than Bitcoin, which had over $6 billion in value outstanding last week. Since Bitcoin was invented, there have been many so-called alt-coins that have tried to improve on Bitcoin, but none have won the following of Ethereum. Unlike Bitcoin, which was released in 2009 by a mysterious creator known as Satoshi Nakamoto, Ethereum was created in a more transparent fashion by a 21-year-old Russian-Canadian, Vitalik Buterin, after he dropped out of Waterloo University in Ontario. The most basic aim of Ethereum was to make it possible to program binding agreements into the blockchain - the smart contract concept. Two people, for instance, could program a bet on a sports game directly into the Ethereum blockchain. Once the final score came in from a mutually agreed upon source - say, The Associated Press - the money would be automatically transferred to the winning party. Ether can be used as a currency in this system, but Ether are also necessary to pay for the network power needed to process the bet. The Ethereum system has sometimes been described as a single shared computer that is run by the network of users and on which resources are parceled out and paid for by Ether. A team of seven co-founders helped Mr. Buterin write up the software after he released the initial description of the system. Mr. Buterin's team raised $18 million in 2014 through a presale of Ether, which helped fund the Ethereum Foundation, which supports the software's development. Like Bitcoin, Ethereum has succeeded by attracting a dedicated network of followers who have helped support the software, partly in the hope that their Ether will increase in value if the system succeeds. Last week, there were 5,800 computers - or nodes - helping support the network around the world. The Bitcoin network had about 7,400 nodes. One of Mr. Buterin's co-founders, Joseph Lubin, has set up ConsenSys, a company based in Brooklyn that has hired over 50 developers to build applications on the Ethereum system, including one that enables music distribution and another that allows for a new kind of financial auditing. The ConsenSys offices are in an old industrial building in the Bushwick section of Brooklyn. The office is essentially one large room, with all the messy trademarks of a start-up operation, including white boards on the walls and computer parts lying around. Mr. Lubin said he had thrown himself into Ethereum after starting to think that it delivered on some of the failed promise of Bitcoin, especially when it came to allowing new kinds of online contracts and markets. \"Bitcoin presented the broad strokes vision, and Ethereum presented the crystallization of how to deliver that vision,\" he said. Joseph Bonneau, a computer science researcher at Stanford who studies so-called crypto-currencies, said Ethereum was the first system that had really caught his interest since Bitcoin. It is far from a sure thing, he cautioned. \"Bitcoin is still probably the safest bet, but Ethereum is certainly No. 2, and some folks will say it is more likely to be around in 10 years,\" Mr. Bonneau said. \"It will depend if any real markets develop around it. If there is some actual application.\"</td>\n",
       "      <td>en</td>\n",
       "    </tr>\n",
       "  </tbody>\n",
       "</table>\n",
       "</div>"
      ],
      "text/plain": [
       "   event_timestamp interaction_type              item_id          producer_id  \\\n",
       "1  1459193988       content_present -4110354420726924665  4340306774493623681   \n",
       "\n",
       "   producer_session_id producer_device_info producer_location  \\\n",
       "1  8940341205206233829  NaN                  NaN                \n",
       "\n",
       "  producer_country item_type  \\\n",
       "1  NaN              HTML       \n",
       "\n",
       "                                                                                                                        item_url  \\\n",
       "1  http://www.nytimes.com/2016/03/28/business/dealbook/ethereum-a-virtual-currency-enables-transactions-that-rival-bitcoins.html   \n",
       "\n",
       "                                                                     title  \\\n",
       "1  Ethereum, a Virtual Currency, Enables Transactions That Rival Bitcoin's   \n",
       "\n",
       "                                                                                                                                                                                                                                                                                                                                                                                                                                                                                                                                                                                                                                                                                                                                                                                                                                                                                                                                                                                                                                                                                                                                                                                                                                                                                                                                                                                                                                                                                                                                                                                                                                                                                                                                                                                                                                                                                                                                                                                                                                                                                                                                                                                                                                                                                                                                                                                                                                                                                                                                                                                                                                                                                                                                                                                                                                                                                                                                                                                                                                                                                                                                                                                                                                                                                                                                                                                                                                                                                                                                                                                                                                                                                                                                                                                                                                                                                                                                                                                                                                                                                                                                                                                                                                                                                                                                                                                                                                                                                                                                                                                                                                                                                                                                                                                                                                                                                                                                                                                                                                                                                                                                                                                                                                                                                                                                                                                                                                                                                                                                                                                                                                                                                                                                                                                                                                                                                                                                                                                                                                                                                                                                                                                                                                                                                                                                                                                                                                                                                                                                                                                                                                                                                                                                                                                                  text_description  \\\n",
       "1  All of this work is still very early. The first full public version of the Ethereum software was recently released, and the system could face some of the same technical and legal problems that have tarnished Bitcoin. Many Bitcoin advocates say Ethereum will face more security problems than Bitcoin because of the greater complexity of the software. Thus far, Ethereum has faced much less testing, and many fewer attacks, than Bitcoin. The novel design of Ethereum may also invite intense scrutiny by authorities given that potentially fraudulent contracts, like the Ponzi schemes, can be written directly into the Ethereum system. But the sophisticated capabilities of the system have made it fascinating to some executives in corporate America. IBM said last year that it was experimenting with Ethereum as a way to control real world objects in the so-called Internet of things. Microsoft has been working on several projects that make it easier to use Ethereum on its computing cloud, Azure. \"Ethereum is a general platform where you can solve problems in many industries using a fairly elegant solution - the most elegant solution we have seen to date,\" said Marley Gray, a director of business development and strategy at Microsoft. Mr. Gray is responsible for Microsoft's work with blockchains, the database concept that Bitcoin introduced. Blockchains are designed to store transactions and data without requiring any central authority or repository. Blockchain ledgers are generally maintained and updated by networks of computers working together - somewhat similar to the way that Wikipedia is updated and maintained by all its users. Many corporations, though, have created their own Ethereum networks with private blockchains, independent of the public system, and that could ultimately detract from the value of the individual unit in the Ethereum system - known as an Ether - that people have recently been buying. The interest in Ethereum is one sign of the corporate fascination with blockchains. Most major banks have expressed an interest in using them to make trading and money transfer faster and more efficient. On Tuesday, executives from the largest banks will gather for a conference, \"Blockchain: Tapping I nto the Real Potential , Cutting Through the Hype.\" Many of these banks have recently been looking at how some version of Ethereum might be put to use. JPMorgan, for instance, has created a specific tool, Masala, that allows some of its internal databases to interact with an Ethereum blockchain. Michael Novogratz, a former top executive at the private equity firm Fortress Investing Group, who helped lead Fortress's investment in Bitcoin, has been looking at Ethereum since he left Fortress last fall. Mr. Novogratz said that he made a \"significant\" purchase of Ether in January. He has also heard how the financial industry's chatter about the virtual currency has evolved. \"A lot of the more established players were thinking, 'It's still an experiment,' \" he said. \"It feels like in the last two to three months that experiment is at least getting a lot more validation.\" Since the beginning of the year, the value of an individual unit of Ether has soared as high as $12 from around $1. That has brought the value of all existing Ether to over $1 billion at times, significantly more than any virtual currency other than Bitcoin, which had over $6 billion in value outstanding last week. Since Bitcoin was invented, there have been many so-called alt-coins that have tried to improve on Bitcoin, but none have won the following of Ethereum. Unlike Bitcoin, which was released in 2009 by a mysterious creator known as Satoshi Nakamoto, Ethereum was created in a more transparent fashion by a 21-year-old Russian-Canadian, Vitalik Buterin, after he dropped out of Waterloo University in Ontario. The most basic aim of Ethereum was to make it possible to program binding agreements into the blockchain - the smart contract concept. Two people, for instance, could program a bet on a sports game directly into the Ethereum blockchain. Once the final score came in from a mutually agreed upon source - say, The Associated Press - the money would be automatically transferred to the winning party. Ether can be used as a currency in this system, but Ether are also necessary to pay for the network power needed to process the bet. The Ethereum system has sometimes been described as a single shared computer that is run by the network of users and on which resources are parceled out and paid for by Ether. A team of seven co-founders helped Mr. Buterin write up the software after he released the initial description of the system. Mr. Buterin's team raised $18 million in 2014 through a presale of Ether, which helped fund the Ethereum Foundation, which supports the software's development. Like Bitcoin, Ethereum has succeeded by attracting a dedicated network of followers who have helped support the software, partly in the hope that their Ether will increase in value if the system succeeds. Last week, there were 5,800 computers - or nodes - helping support the network around the world. The Bitcoin network had about 7,400 nodes. One of Mr. Buterin's co-founders, Joseph Lubin, has set up ConsenSys, a company based in Brooklyn that has hired over 50 developers to build applications on the Ethereum system, including one that enables music distribution and another that allows for a new kind of financial auditing. The ConsenSys offices are in an old industrial building in the Bushwick section of Brooklyn. The office is essentially one large room, with all the messy trademarks of a start-up operation, including white boards on the walls and computer parts lying around. Mr. Lubin said he had thrown himself into Ethereum after starting to think that it delivered on some of the failed promise of Bitcoin, especially when it came to allowing new kinds of online contracts and markets. \"Bitcoin presented the broad strokes vision, and Ethereum presented the crystallization of how to deliver that vision,\" he said. Joseph Bonneau, a computer science researcher at Stanford who studies so-called crypto-currencies, said Ethereum was the first system that had really caught his interest since Bitcoin. It is far from a sure thing, he cautioned. \"Bitcoin is still probably the safest bet, but Ethereum is certainly No. 2, and some folks will say it is more likely to be around in 10 years,\" Mr. Bonneau said. \"It will depend if any real markets develop around it. If there is some actual application.\"   \n",
       "\n",
       "  language  \n",
       "1  en       "
      ]
     },
     "execution_count": 85,
     "metadata": {},
     "output_type": "execute_result"
    }
   ],
   "source": [
    "plat_articles_english = all_plat_articles[all_plat_articles.language.isin([\"en\"])]\n",
    "plat_articles_english.head(1)\n"
   ]
  },
  {
   "cell_type": "code",
   "execution_count": 86,
   "metadata": {
    "collapsed": true,
    "jupyter": {
     "outputs_hidden": true
    }
   },
   "outputs": [
    {
     "data": {
      "text/html": [
       "<div>\n",
       "<style scoped>\n",
       "    .dataframe tbody tr th:only-of-type {\n",
       "        vertical-align: middle;\n",
       "    }\n",
       "\n",
       "    .dataframe tbody tr th {\n",
       "        vertical-align: top;\n",
       "    }\n",
       "\n",
       "    .dataframe thead th {\n",
       "        text-align: right;\n",
       "    }\n",
       "</style>\n",
       "<table border=\"1\" class=\"dataframe\">\n",
       "  <thead>\n",
       "    <tr style=\"text-align: right;\">\n",
       "      <th></th>\n",
       "      <th>item_id</th>\n",
       "      <th>text_description</th>\n",
       "      <th>eng_title</th>\n",
       "    </tr>\n",
       "  </thead>\n",
       "  <tbody>\n",
       "    <tr>\n",
       "      <td>1</td>\n",
       "      <td>-4110354420726924665</td>\n",
       "      <td>all of this work is still very early the first full public version of the ethereum software was recently released and the system could face some of the same technical and legal problems that have tarnished bitcoin many bitcoin advocates say ethereum will face more security problems than bitcoin because of the greater complexity of the software thus far ethereum has faced much less testing and many fewer attacks than bitcoin the novel design of ethereum may also invite intense scrutiny by authorities given that potentially fraudulent contracts like the ponzi schemes can be written directly into the ethereum system but the sophisticated capabilities of the system have made it fascinating to some executives in corporate america ibm said last year that it was experimenting with ethereum as a way to control real world objects in the so called internet of things microsoft has been working on several projects that make it easier to use ethereum on its computing cloud azure ethereum is a general platform where you can solve problems in many industries using a fairly elegant solution the most elegant solution we have seen to date said marley gray a director of business development and strategy at microsoft mr gray is responsible for microsoft s work with blockchains the database concept that bitcoin introduced blockchains are designed to store transactions and data without requiring any central authority or repository blockchain ledgers are generally maintained and updated by networks of computers working together somewhat similar to the way that wikipedia is updated and maintained by all its users many corporations though have created their own ethereum networks with private blockchains independent of the public system and that could ultimately detract from the value of the individual unit in the ethereum system known as an ether that people have recently been buying the interest in ethereum is one sign of the corporate fascination with blockchains most major banks have expressed an interest in using them to make trading and money transfer faster and more efficient on tuesday executives from the largest banks will gather for a conference blockchain tapping i nto the real potential cutting through the hype many of these banks have recently been looking at how some version of ethereum might be put to use jpmorgan for instance has created a specific tool masala that allows some of its internal databases to interact with an ethereum blockchain michael novogratz a former top executive at the private equity firm fortress investing group who helped lead fortress s investment in bitcoin has been looking at ethereum since he left fortress last fall mr novogratz said that he made a significant purchase of ether in january he has also heard how the financial industry s chatter about the virtual currency has evolved a lot of the more established players were thinking it s still an experiment he said it feels like in the last two to three months that experiment is at least getting a lot more validation since the beginning of the year the value of an individual unit of ether has soared as high as 12 from around 1 that has brought the value of all existing ether to over 1 billion at times significantly more than any virtual currency other than bitcoin which had over 6 billion in value outstanding last week since bitcoin was invented there have been many so called alt coins that have tried to improve on bitcoin but none have won the following of ethereum unlike bitcoin which was released in by a mysterious creator known as satoshi nakamoto ethereum was created in a more transparent fashion by a year old russian canadian vitalik buterin after he dropped out of waterloo university in ontario the most basic aim of ethereum was to make it possible to program binding agreements into the blockchain the smart contract concept two people for instance could program a bet on a sports game directly into the ethereum blockchain once the final score came in from a mutually agreed upon source say the associated press the money would be automatically transferred to the winning party ether can be used as a currency in this system but ether are also necessary to pay for the network power needed to process the bet the ethereum system has sometimes been described as a single shared computer that is run by the network of users and on which resources are parceled out and paid for by ether a team of seven co founders helped mr buterin write up the software after he released the initial description of the system mr buterin s team raised 18 million in through a presale of ether which helped fund the ethereum foundation which supports the software s development like bitcoin ethereum has succeeded by attracting a dedicated network of followers who have helped support the software partly in the hope that their ether will increase in value if the system succeeds last week there were computers or nodes helping support the network around the world the bitcoin network had about nodes one of mr buterin s co founders joseph lubin has set up consensys a company based in brooklyn that has hired over developers to build applications on the ethereum system including one that enables music distribution and another that allows for a new kind of financial auditing the consensys offices are in an old industrial building in the bushwick section of brooklyn the office is essentially one large room with all the messy trademarks of a start up operation including white boards on the walls and computer parts lying around mr lubin said he had thrown himself into ethereum after starting to think that it delivered on some of the failed promise of bitcoin especially when it came to allowing new kinds of online contracts and markets bitcoin presented the broad strokes vision and ethereum presented the crystallization of how to deliver that vision he said joseph bonneau a computer science researcher at stanford who studies so called crypto currencies said ethereum was the first system that had really caught his interest since bitcoin it is far from a sure thing he cautioned bitcoin is still probably the safest bet but ethereum is certainly no and some folks will say it is more likely to be around in years mr bonneau said it will depend if any real markets develop around it if there is some actual application</td>\n",
       "      <td>ethereum a virtual currency enables transactions that rival bitcoin s</td>\n",
       "    </tr>\n",
       "  </tbody>\n",
       "</table>\n",
       "</div>"
      ],
      "text/plain": [
       "               item_id  \\\n",
       "1 -4110354420726924665   \n",
       "\n",
       "                                                                                                                                                                                                                                                                                                                                                                                                                                                                                                                                                                                                                                                                                                                                                                                                                                                                                                                                                                                                                                                                                                                                                                                                                                                                                                                                                                                                                                                                                                                                                                                                                                                                                                                                                                                                                                                                                                                                                                                                                                                                                                                                                                                                                                                                                                                                                                                                                                                                                                                                                                                                                                                                                                                                                                                                                                                                                                                                                                                                                                                                                                                                                                                                                                                                                                                                                                                                                                                                                                                                                                                                                                                                                                                                                                                                                                                                                                                                                                                                                                                                                                                                                                                                                                                                                                                                                                                                                                                                                                                                                                                                                                                                                                                                                                                                                                                                                                                                                                                                                                                                                                                                                                                                                                                                                                                                                                                                                                                                                                                                                                                                                                                                                                                                                                                                                                                                                                                                                                                                                                                                                                                                                                                                                                                                                                                                                                                                                                                                                                                                                                                                   text_description  \\\n",
       "1  all of this work is still very early the first full public version of the ethereum software was recently released and the system could face some of the same technical and legal problems that have tarnished bitcoin many bitcoin advocates say ethereum will face more security problems than bitcoin because of the greater complexity of the software thus far ethereum has faced much less testing and many fewer attacks than bitcoin the novel design of ethereum may also invite intense scrutiny by authorities given that potentially fraudulent contracts like the ponzi schemes can be written directly into the ethereum system but the sophisticated capabilities of the system have made it fascinating to some executives in corporate america ibm said last year that it was experimenting with ethereum as a way to control real world objects in the so called internet of things microsoft has been working on several projects that make it easier to use ethereum on its computing cloud azure ethereum is a general platform where you can solve problems in many industries using a fairly elegant solution the most elegant solution we have seen to date said marley gray a director of business development and strategy at microsoft mr gray is responsible for microsoft s work with blockchains the database concept that bitcoin introduced blockchains are designed to store transactions and data without requiring any central authority or repository blockchain ledgers are generally maintained and updated by networks of computers working together somewhat similar to the way that wikipedia is updated and maintained by all its users many corporations though have created their own ethereum networks with private blockchains independent of the public system and that could ultimately detract from the value of the individual unit in the ethereum system known as an ether that people have recently been buying the interest in ethereum is one sign of the corporate fascination with blockchains most major banks have expressed an interest in using them to make trading and money transfer faster and more efficient on tuesday executives from the largest banks will gather for a conference blockchain tapping i nto the real potential cutting through the hype many of these banks have recently been looking at how some version of ethereum might be put to use jpmorgan for instance has created a specific tool masala that allows some of its internal databases to interact with an ethereum blockchain michael novogratz a former top executive at the private equity firm fortress investing group who helped lead fortress s investment in bitcoin has been looking at ethereum since he left fortress last fall mr novogratz said that he made a significant purchase of ether in january he has also heard how the financial industry s chatter about the virtual currency has evolved a lot of the more established players were thinking it s still an experiment he said it feels like in the last two to three months that experiment is at least getting a lot more validation since the beginning of the year the value of an individual unit of ether has soared as high as 12 from around 1 that has brought the value of all existing ether to over 1 billion at times significantly more than any virtual currency other than bitcoin which had over 6 billion in value outstanding last week since bitcoin was invented there have been many so called alt coins that have tried to improve on bitcoin but none have won the following of ethereum unlike bitcoin which was released in by a mysterious creator known as satoshi nakamoto ethereum was created in a more transparent fashion by a year old russian canadian vitalik buterin after he dropped out of waterloo university in ontario the most basic aim of ethereum was to make it possible to program binding agreements into the blockchain the smart contract concept two people for instance could program a bet on a sports game directly into the ethereum blockchain once the final score came in from a mutually agreed upon source say the associated press the money would be automatically transferred to the winning party ether can be used as a currency in this system but ether are also necessary to pay for the network power needed to process the bet the ethereum system has sometimes been described as a single shared computer that is run by the network of users and on which resources are parceled out and paid for by ether a team of seven co founders helped mr buterin write up the software after he released the initial description of the system mr buterin s team raised 18 million in through a presale of ether which helped fund the ethereum foundation which supports the software s development like bitcoin ethereum has succeeded by attracting a dedicated network of followers who have helped support the software partly in the hope that their ether will increase in value if the system succeeds last week there were computers or nodes helping support the network around the world the bitcoin network had about nodes one of mr buterin s co founders joseph lubin has set up consensys a company based in brooklyn that has hired over developers to build applications on the ethereum system including one that enables music distribution and another that allows for a new kind of financial auditing the consensys offices are in an old industrial building in the bushwick section of brooklyn the office is essentially one large room with all the messy trademarks of a start up operation including white boards on the walls and computer parts lying around mr lubin said he had thrown himself into ethereum after starting to think that it delivered on some of the failed promise of bitcoin especially when it came to allowing new kinds of online contracts and markets bitcoin presented the broad strokes vision and ethereum presented the crystallization of how to deliver that vision he said joseph bonneau a computer science researcher at stanford who studies so called crypto currencies said ethereum was the first system that had really caught his interest since bitcoin it is far from a sure thing he cautioned bitcoin is still probably the safest bet but ethereum is certainly no and some folks will say it is more likely to be around in years mr bonneau said it will depend if any real markets develop around it if there is some actual application   \n",
       "\n",
       "                                                               eng_title  \n",
       "1  ethereum a virtual currency enables transactions that rival bitcoin s  "
      ]
     },
     "execution_count": 86,
     "metadata": {},
     "output_type": "execute_result"
    }
   ],
   "source": [
    "plat_articles_english = plat_data_cleaning(plat_articles_english) \n",
    "plat_articles_english['text_description'] = plat_articles_english['text_description'].apply(article_strings)\n",
    "plat_articles_english['eng_title'] = plat_articles_english['title'].apply(article_strings)\n",
    "plat_articles_english = plat_articles_english.drop(['title'],axis=1)\n",
    "plat_articles_english.head(1)\n"
   ]
  },
  {
   "cell_type": "code",
   "execution_count": 87,
   "metadata": {
    "collapsed": true,
    "jupyter": {
     "outputs_hidden": true
    }
   },
   "outputs": [
    {
     "name": "stdout",
     "output_type": "stream",
     "text": [
      "(2211, 2)\n"
     ]
    },
    {
     "data": {
      "text/html": [
       "<div>\n",
       "<style scoped>\n",
       "    .dataframe tbody tr th:only-of-type {\n",
       "        vertical-align: middle;\n",
       "    }\n",
       "\n",
       "    .dataframe tbody tr th {\n",
       "        vertical-align: top;\n",
       "    }\n",
       "\n",
       "    .dataframe thead th {\n",
       "        text-align: right;\n",
       "    }\n",
       "</style>\n",
       "<table border=\"1\" class=\"dataframe\">\n",
       "  <thead>\n",
       "    <tr style=\"text-align: right;\">\n",
       "      <th></th>\n",
       "      <th>item_id</th>\n",
       "      <th>eng_complete_text</th>\n",
       "    </tr>\n",
       "  </thead>\n",
       "  <tbody>\n",
       "    <tr>\n",
       "      <td>1</td>\n",
       "      <td>-4110354420726924665</td>\n",
       "      <td>ethereum a virtual currency enables transactions that rival bitcoin s - all of this work is still very early the first full public version of the ethereum software was recently released and the system could face some of the same technical and legal problems that have tarnished bitcoin many bitcoin advocates say ethereum will face more security problems than bitcoin because of the greater complexity of the software thus far ethereum has faced much less testing and many fewer attacks than bitcoin the novel design of ethereum may also invite intense scrutiny by authorities given that potentially fraudulent contracts like the ponzi schemes can be written directly into the ethereum system but the sophisticated capabilities of the system have made it fascinating to some executives in corporate america ibm said last year that it was experimenting with ethereum as a way to control real world objects in the so called internet of things microsoft has been working on several projects that make it easier to use ethereum on its computing cloud azure ethereum is a general platform where you can solve problems in many industries using a fairly elegant solution the most elegant solution we have seen to date said marley gray a director of business development and strategy at microsoft mr gray is responsible for microsoft s work with blockchains the database concept that bitcoin introduced blockchains are designed to store transactions and data without requiring any central authority or repository blockchain ledgers are generally maintained and updated by networks of computers working together somewhat similar to the way that wikipedia is updated and maintained by all its users many corporations though have created their own ethereum networks with private blockchains independent of the public system and that could ultimately detract from the value of the individual unit in the ethereum system known as an ether that people have recently been buying the interest in ethereum is one sign of the corporate fascination with blockchains most major banks have expressed an interest in using them to make trading and money transfer faster and more efficient on tuesday executives from the largest banks will gather for a conference blockchain tapping i nto the real potential cutting through the hype many of these banks have recently been looking at how some version of ethereum might be put to use jpmorgan for instance has created a specific tool masala that allows some of its internal databases to interact with an ethereum blockchain michael novogratz a former top executive at the private equity firm fortress investing group who helped lead fortress s investment in bitcoin has been looking at ethereum since he left fortress last fall mr novogratz said that he made a significant purchase of ether in january he has also heard how the financial industry s chatter about the virtual currency has evolved a lot of the more established players were thinking it s still an experiment he said it feels like in the last two to three months that experiment is at least getting a lot more validation since the beginning of the year the value of an individual unit of ether has soared as high as 12 from around 1 that has brought the value of all existing ether to over 1 billion at times significantly more than any virtual currency other than bitcoin which had over 6 billion in value outstanding last week since bitcoin was invented there have been many so called alt coins that have tried to improve on bitcoin but none have won the following of ethereum unlike bitcoin which was released in by a mysterious creator known as satoshi nakamoto ethereum was created in a more transparent fashion by a year old russian canadian vitalik buterin after he dropped out of waterloo university in ontario the most basic aim of ethereum was to make it possible to program binding agreements into the blockchain the smart contract concept two people for instance could program a bet on a sports game directly into the ethereum blockchain once the final score came in from a mutually agreed upon source say the associated press the money would be automatically transferred to the winning party ether can be used as a currency in this system but ether are also necessary to pay for the network power needed to process the bet the ethereum system has sometimes been described as a single shared computer that is run by the network of users and on which resources are parceled out and paid for by ether a team of seven co founders helped mr buterin write up the software after he released the initial description of the system mr buterin s team raised 18 million in through a presale of ether which helped fund the ethereum foundation which supports the software s development like bitcoin ethereum has succeeded by attracting a dedicated network of followers who have helped support the software partly in the hope that their ether will increase in value if the system succeeds last week there were computers or nodes helping support the network around the world the bitcoin network had about nodes one of mr buterin s co founders joseph lubin has set up consensys a company based in brooklyn that has hired over developers to build applications on the ethereum system including one that enables music distribution and another that allows for a new kind of financial auditing the consensys offices are in an old industrial building in the bushwick section of brooklyn the office is essentially one large room with all the messy trademarks of a start up operation including white boards on the walls and computer parts lying around mr lubin said he had thrown himself into ethereum after starting to think that it delivered on some of the failed promise of bitcoin especially when it came to allowing new kinds of online contracts and markets bitcoin presented the broad strokes vision and ethereum presented the crystallization of how to deliver that vision he said joseph bonneau a computer science researcher at stanford who studies so called crypto currencies said ethereum was the first system that had really caught his interest since bitcoin it is far from a sure thing he cautioned bitcoin is still probably the safest bet but ethereum is certainly no and some folks will say it is more likely to be around in years mr bonneau said it will depend if any real markets develop around it if there is some actual application</td>\n",
       "    </tr>\n",
       "  </tbody>\n",
       "</table>\n",
       "</div>"
      ],
      "text/plain": [
       "               item_id  \\\n",
       "1 -4110354420726924665   \n",
       "\n",
       "                                                                                                                                                                                                                                                                                                                                                                                                                                                                                                                                                                                                                                                                                                                                                                                                                                                                                                                                                                                                                                                                                                                                                                                                                                                                                                                                                                                                                                                                                                                                                                                                                                                                                                                                                                                                                                                                                                                                                                                                                                                                                                                                                                                                                                                                                                                                                                                                                                                                                                                                                                                                                                                                                                                                                                                                                                                                                                                                                                                                                                                                                                                                                                                                                                                                                                                                                                                                                                                                                                                                                                                                                                                                                                                                                                                                                                                                                                                                                                                                                                                                                                                                                                                                                                                                                                                                                                                                                                                                                                                                                                                                                                                                                                                                                                                                                                                                                                                                                                                                                                                                                                                                                                                                                                                                                                                                                                                                                                                                                                                                                                                                                                                                                                                                                                                                                                                                                                                                                                                                                                                                                                                                                                                                                                                                                                                                                                                                                                                                                                                                                                                                                                                                          eng_complete_text  \n",
       "1  ethereum a virtual currency enables transactions that rival bitcoin s - all of this work is still very early the first full public version of the ethereum software was recently released and the system could face some of the same technical and legal problems that have tarnished bitcoin many bitcoin advocates say ethereum will face more security problems than bitcoin because of the greater complexity of the software thus far ethereum has faced much less testing and many fewer attacks than bitcoin the novel design of ethereum may also invite intense scrutiny by authorities given that potentially fraudulent contracts like the ponzi schemes can be written directly into the ethereum system but the sophisticated capabilities of the system have made it fascinating to some executives in corporate america ibm said last year that it was experimenting with ethereum as a way to control real world objects in the so called internet of things microsoft has been working on several projects that make it easier to use ethereum on its computing cloud azure ethereum is a general platform where you can solve problems in many industries using a fairly elegant solution the most elegant solution we have seen to date said marley gray a director of business development and strategy at microsoft mr gray is responsible for microsoft s work with blockchains the database concept that bitcoin introduced blockchains are designed to store transactions and data without requiring any central authority or repository blockchain ledgers are generally maintained and updated by networks of computers working together somewhat similar to the way that wikipedia is updated and maintained by all its users many corporations though have created their own ethereum networks with private blockchains independent of the public system and that could ultimately detract from the value of the individual unit in the ethereum system known as an ether that people have recently been buying the interest in ethereum is one sign of the corporate fascination with blockchains most major banks have expressed an interest in using them to make trading and money transfer faster and more efficient on tuesday executives from the largest banks will gather for a conference blockchain tapping i nto the real potential cutting through the hype many of these banks have recently been looking at how some version of ethereum might be put to use jpmorgan for instance has created a specific tool masala that allows some of its internal databases to interact with an ethereum blockchain michael novogratz a former top executive at the private equity firm fortress investing group who helped lead fortress s investment in bitcoin has been looking at ethereum since he left fortress last fall mr novogratz said that he made a significant purchase of ether in january he has also heard how the financial industry s chatter about the virtual currency has evolved a lot of the more established players were thinking it s still an experiment he said it feels like in the last two to three months that experiment is at least getting a lot more validation since the beginning of the year the value of an individual unit of ether has soared as high as 12 from around 1 that has brought the value of all existing ether to over 1 billion at times significantly more than any virtual currency other than bitcoin which had over 6 billion in value outstanding last week since bitcoin was invented there have been many so called alt coins that have tried to improve on bitcoin but none have won the following of ethereum unlike bitcoin which was released in by a mysterious creator known as satoshi nakamoto ethereum was created in a more transparent fashion by a year old russian canadian vitalik buterin after he dropped out of waterloo university in ontario the most basic aim of ethereum was to make it possible to program binding agreements into the blockchain the smart contract concept two people for instance could program a bet on a sports game directly into the ethereum blockchain once the final score came in from a mutually agreed upon source say the associated press the money would be automatically transferred to the winning party ether can be used as a currency in this system but ether are also necessary to pay for the network power needed to process the bet the ethereum system has sometimes been described as a single shared computer that is run by the network of users and on which resources are parceled out and paid for by ether a team of seven co founders helped mr buterin write up the software after he released the initial description of the system mr buterin s team raised 18 million in through a presale of ether which helped fund the ethereum foundation which supports the software s development like bitcoin ethereum has succeeded by attracting a dedicated network of followers who have helped support the software partly in the hope that their ether will increase in value if the system succeeds last week there were computers or nodes helping support the network around the world the bitcoin network had about nodes one of mr buterin s co founders joseph lubin has set up consensys a company based in brooklyn that has hired over developers to build applications on the ethereum system including one that enables music distribution and another that allows for a new kind of financial auditing the consensys offices are in an old industrial building in the bushwick section of brooklyn the office is essentially one large room with all the messy trademarks of a start up operation including white boards on the walls and computer parts lying around mr lubin said he had thrown himself into ethereum after starting to think that it delivered on some of the failed promise of bitcoin especially when it came to allowing new kinds of online contracts and markets bitcoin presented the broad strokes vision and ethereum presented the crystallization of how to deliver that vision he said joseph bonneau a computer science researcher at stanford who studies so called crypto currencies said ethereum was the first system that had really caught his interest since bitcoin it is far from a sure thing he cautioned bitcoin is still probably the safest bet but ethereum is certainly no and some folks will say it is more likely to be around in years mr bonneau said it will depend if any real markets develop around it if there is some actual application  "
      ]
     },
     "execution_count": 87,
     "metadata": {},
     "output_type": "execute_result"
    }
   ],
   "source": [
    "#concatenating texts in columns\n",
    "plat_articles_english['eng_complete_text'] = plat_articles_english.eng_title.str.cat(plat_articles_english['text_description'], sep=' - ', na_rep='?')\n",
    "plat_articles_english = plat_articles_english.drop(columns = ['eng_title','text_description'],axis=1).dropna()\n",
    "print(plat_articles_english.shape)\n",
    "plat_articles_english.head(1)\n"
   ]
  },
  {
   "cell_type": "code",
   "execution_count": 88,
   "metadata": {
    "collapsed": true,
    "jupyter": {
     "outputs_hidden": true
    }
   },
   "outputs": [
    {
     "name": "stdout",
     "output_type": "stream",
     "text": [
      "(2211, 2)\n"
     ]
    },
    {
     "data": {
      "text/html": [
       "<div>\n",
       "<style scoped>\n",
       "    .dataframe tbody tr th:only-of-type {\n",
       "        vertical-align: middle;\n",
       "    }\n",
       "\n",
       "    .dataframe tbody tr th {\n",
       "        vertical-align: top;\n",
       "    }\n",
       "\n",
       "    .dataframe thead th {\n",
       "        text-align: right;\n",
       "    }\n",
       "</style>\n",
       "<table border=\"1\" class=\"dataframe\">\n",
       "  <thead>\n",
       "    <tr style=\"text-align: right;\">\n",
       "      <th></th>\n",
       "      <th>item_id</th>\n",
       "      <th>eng_complete_text</th>\n",
       "    </tr>\n",
       "  </thead>\n",
       "  <tbody>\n",
       "    <tr>\n",
       "      <td>1</td>\n",
       "      <td>-4110354420726924665</td>\n",
       "      <td>ethereum a virtual currency enables transactions that rival bitcoin s - all of this work is still very early the first full public version of the ethereum software was recently released and the system could face some of the same technical and legal problems that have tarnished bitcoin many bitcoin advocates say ethereum will face more security problems than bitcoin because of the greater complexity of the software thus far ethereum has faced much less testing and many fewer attacks than bitcoin the novel design of ethereum may also invite intense scrutiny by authorities given that potentially fraudulent contracts like the ponzi schemes can be written directly into the ethereum system but the sophisticated capabilities of the system have made it fascinating to some executives in corporate america ibm said last year that it was experimenting with ethereum as a way to control real world objects in the so called internet of things microsoft has been working on several projects that make it easier to use ethereum on its computing cloud azure ethereum is a general platform where you can solve problems in many industries using a fairly elegant solution the most elegant solution we have seen to date said marley gray a director of business development and strategy at microsoft mr gray is responsible for microsoft s work with blockchains the database concept that bitcoin introduced blockchains are designed to store transactions and data without requiring any central authority or repository blockchain ledgers are generally maintained and updated by networks of computers working together somewhat similar to the way that wikipedia is updated and maintained by all its users many corporations though have created their own ethereum networks with private blockchains independent of the public system and that could ultimately detract from the value of the individual unit in the ethereum system known as an ether that people have recently been buying the interest in ethereum is one sign of the corporate fascination with blockchains most major banks have expressed an interest in using them to make trading and money transfer faster and more efficient on tuesday executives from the largest banks will gather for a conference blockchain tapping i nto the real potential cutting through the hype many of these banks have recently been looking at how some version of ethereum might be put to use jpmorgan for instance has created a specific tool masala that allows some of its internal databases to interact with an ethereum blockchain michael novogratz a former top executive at the private equity firm fortress investing group who helped lead fortress s investment in bitcoin has been looking at ethereum since he left fortress last fall mr novogratz said that he made a significant purchase of ether in january he has also heard how the financial industry s chatter about the virtual currency has evolved a lot of the more established players were thinking it s still an experiment he said it feels like in the last two to three months that experiment is at least getting a lot more validation since the beginning of the year the value of an individual unit of ether has soared as high as 12 from around 1 that has brought the value of all existing ether to over 1 billion at times significantly more than any virtual currency other than bitcoin which had over 6 billion in value outstanding last week since bitcoin was invented there have been many so called alt coins that have tried to improve on bitcoin but none have won the following of ethereum unlike bitcoin which was released in by a mysterious creator known as satoshi nakamoto ethereum was created in a more transparent fashion by a year old russian canadian vitalik buterin after he dropped out of waterloo university in ontario the most basic aim of ethereum was to make it possible to program binding agreements into the blockchain the smart contract concept two people for instance could program a bet on a sports game directly into the ethereum blockchain once the final score came in from a mutually agreed upon source say the associated press the money would be automatically transferred to the winning party ether can be used as a currency in this system but ether are also necessary to pay for the network power needed to process the bet the ethereum system has sometimes been described as a single shared computer that is run by the network of users and on which resources are parceled out and paid for by ether a team of seven co founders helped mr buterin write up the software after he released the initial description of the system mr buterin s team raised 18 million in through a presale of ether which helped fund the ethereum foundation which supports the software s development like bitcoin ethereum has succeeded by attracting a dedicated network of followers who have helped support the software partly in the hope that their ether will increase in value if the system succeeds last week there were computers or nodes helping support the network around the world the bitcoin network had about nodes one of mr buterin s co founders joseph lubin has set up consensys a company based in brooklyn that has hired over developers to build applications on the ethereum system including one that enables music distribution and another that allows for a new kind of financial auditing the consensys offices are in an old industrial building in the bushwick section of brooklyn the office is essentially one large room with all the messy trademarks of a start up operation including white boards on the walls and computer parts lying around mr lubin said he had thrown himself into ethereum after starting to think that it delivered on some of the failed promise of bitcoin especially when it came to allowing new kinds of online contracts and markets bitcoin presented the broad strokes vision and ethereum presented the crystallization of how to deliver that vision he said joseph bonneau a computer science researcher at stanford who studies so called crypto currencies said ethereum was the first system that had really caught his interest since bitcoin it is far from a sure thing he cautioned bitcoin is still probably the safest bet but ethereum is certainly no and some folks will say it is more likely to be around in years mr bonneau said it will depend if any real markets develop around it if there is some actual application</td>\n",
       "    </tr>\n",
       "  </tbody>\n",
       "</table>\n",
       "</div>"
      ],
      "text/plain": [
       "               item_id  \\\n",
       "1 -4110354420726924665   \n",
       "\n",
       "                                                                                                                                                                                                                                                                                                                                                                                                                                                                                                                                                                                                                                                                                                                                                                                                                                                                                                                                                                                                                                                                                                                                                                                                                                                                                                                                                                                                                                                                                                                                                                                                                                                                                                                                                                                                                                                                                                                                                                                                                                                                                                                                                                                                                                                                                                                                                                                                                                                                                                                                                                                                                                                                                                                                                                                                                                                                                                                                                                                                                                                                                                                                                                                                                                                                                                                                                                                                                                                                                                                                                                                                                                                                                                                                                                                                                                                                                                                                                                                                                                                                                                                                                                                                                                                                                                                                                                                                                                                                                                                                                                                                                                                                                                                                                                                                                                                                                                                                                                                                                                                                                                                                                                                                                                                                                                                                                                                                                                                                                                                                                                                                                                                                                                                                                                                                                                                                                                                                                                                                                                                                                                                                                                                                                                                                                                                                                                                                                                                                                                                                                                                                                                                                          eng_complete_text  \n",
       "1  ethereum a virtual currency enables transactions that rival bitcoin s - all of this work is still very early the first full public version of the ethereum software was recently released and the system could face some of the same technical and legal problems that have tarnished bitcoin many bitcoin advocates say ethereum will face more security problems than bitcoin because of the greater complexity of the software thus far ethereum has faced much less testing and many fewer attacks than bitcoin the novel design of ethereum may also invite intense scrutiny by authorities given that potentially fraudulent contracts like the ponzi schemes can be written directly into the ethereum system but the sophisticated capabilities of the system have made it fascinating to some executives in corporate america ibm said last year that it was experimenting with ethereum as a way to control real world objects in the so called internet of things microsoft has been working on several projects that make it easier to use ethereum on its computing cloud azure ethereum is a general platform where you can solve problems in many industries using a fairly elegant solution the most elegant solution we have seen to date said marley gray a director of business development and strategy at microsoft mr gray is responsible for microsoft s work with blockchains the database concept that bitcoin introduced blockchains are designed to store transactions and data without requiring any central authority or repository blockchain ledgers are generally maintained and updated by networks of computers working together somewhat similar to the way that wikipedia is updated and maintained by all its users many corporations though have created their own ethereum networks with private blockchains independent of the public system and that could ultimately detract from the value of the individual unit in the ethereum system known as an ether that people have recently been buying the interest in ethereum is one sign of the corporate fascination with blockchains most major banks have expressed an interest in using them to make trading and money transfer faster and more efficient on tuesday executives from the largest banks will gather for a conference blockchain tapping i nto the real potential cutting through the hype many of these banks have recently been looking at how some version of ethereum might be put to use jpmorgan for instance has created a specific tool masala that allows some of its internal databases to interact with an ethereum blockchain michael novogratz a former top executive at the private equity firm fortress investing group who helped lead fortress s investment in bitcoin has been looking at ethereum since he left fortress last fall mr novogratz said that he made a significant purchase of ether in january he has also heard how the financial industry s chatter about the virtual currency has evolved a lot of the more established players were thinking it s still an experiment he said it feels like in the last two to three months that experiment is at least getting a lot more validation since the beginning of the year the value of an individual unit of ether has soared as high as 12 from around 1 that has brought the value of all existing ether to over 1 billion at times significantly more than any virtual currency other than bitcoin which had over 6 billion in value outstanding last week since bitcoin was invented there have been many so called alt coins that have tried to improve on bitcoin but none have won the following of ethereum unlike bitcoin which was released in by a mysterious creator known as satoshi nakamoto ethereum was created in a more transparent fashion by a year old russian canadian vitalik buterin after he dropped out of waterloo university in ontario the most basic aim of ethereum was to make it possible to program binding agreements into the blockchain the smart contract concept two people for instance could program a bet on a sports game directly into the ethereum blockchain once the final score came in from a mutually agreed upon source say the associated press the money would be automatically transferred to the winning party ether can be used as a currency in this system but ether are also necessary to pay for the network power needed to process the bet the ethereum system has sometimes been described as a single shared computer that is run by the network of users and on which resources are parceled out and paid for by ether a team of seven co founders helped mr buterin write up the software after he released the initial description of the system mr buterin s team raised 18 million in through a presale of ether which helped fund the ethereum foundation which supports the software s development like bitcoin ethereum has succeeded by attracting a dedicated network of followers who have helped support the software partly in the hope that their ether will increase in value if the system succeeds last week there were computers or nodes helping support the network around the world the bitcoin network had about nodes one of mr buterin s co founders joseph lubin has set up consensys a company based in brooklyn that has hired over developers to build applications on the ethereum system including one that enables music distribution and another that allows for a new kind of financial auditing the consensys offices are in an old industrial building in the bushwick section of brooklyn the office is essentially one large room with all the messy trademarks of a start up operation including white boards on the walls and computer parts lying around mr lubin said he had thrown himself into ethereum after starting to think that it delivered on some of the failed promise of bitcoin especially when it came to allowing new kinds of online contracts and markets bitcoin presented the broad strokes vision and ethereum presented the crystallization of how to deliver that vision he said joseph bonneau a computer science researcher at stanford who studies so called crypto currencies said ethereum was the first system that had really caught his interest since bitcoin it is far from a sure thing he cautioned bitcoin is still probably the safest bet but ethereum is certainly no and some folks will say it is more likely to be around in years mr bonneau said it will depend if any real markets develop around it if there is some actual application  "
      ]
     },
     "execution_count": 88,
     "metadata": {},
     "output_type": "execute_result"
    }
   ],
   "source": [
    "plat_articles_english.drop_duplicates()\n",
    "print(plat_articles_english.shape)\n",
    "plat_articles_english.head(1)"
   ]
  },
  {
   "cell_type": "code",
   "execution_count": 89,
   "metadata": {},
   "outputs": [
    {
     "data": {
      "text/html": [
       "<div>\n",
       "<style scoped>\n",
       "    .dataframe tbody tr th:only-of-type {\n",
       "        vertical-align: middle;\n",
       "    }\n",
       "\n",
       "    .dataframe tbody tr th {\n",
       "        vertical-align: top;\n",
       "    }\n",
       "\n",
       "    .dataframe thead th {\n",
       "        text-align: right;\n",
       "    }\n",
       "</style>\n",
       "<table border=\"1\" class=\"dataframe\">\n",
       "  <thead>\n",
       "    <tr style=\"text-align: right;\">\n",
       "      <th></th>\n",
       "      <th>item_id</th>\n",
       "      <th>eng_complete_text</th>\n",
       "      <th>eng_text_embeddings</th>\n",
       "    </tr>\n",
       "  </thead>\n",
       "  <tbody>\n",
       "    <tr>\n",
       "      <td>1</td>\n",
       "      <td>-4110354420726924665</td>\n",
       "      <td>ethereum a virtual currency enables transactions that rival bitcoin s - all of this work is still very early the first full public version of the ethereum software was recently released and the system could face some of the same technical and legal problems that have tarnished bitcoin many bitcoin advocates say ethereum will face more security problems than bitcoin because of the greater complexity of the software thus far ethereum has faced much less testing and many fewer attacks than bitcoin the novel design of ethereum may also invite intense scrutiny by authorities given that potentially fraudulent contracts like the ponzi schemes can be written directly into the ethereum system but the sophisticated capabilities of the system have made it fascinating to some executives in corporate america ibm said last year that it was experimenting with ethereum as a way to control real world objects in the so called internet of things microsoft has been working on several projects that make it easier to use ethereum on its computing cloud azure ethereum is a general platform where you can solve problems in many industries using a fairly elegant solution the most elegant solution we have seen to date said marley gray a director of business development and strategy at microsoft mr gray is responsible for microsoft s work with blockchains the database concept that bitcoin introduced blockchains are designed to store transactions and data without requiring any central authority or repository blockchain ledgers are generally maintained and updated by networks of computers working together somewhat similar to the way that wikipedia is updated and maintained by all its users many corporations though have created their own ethereum networks with private blockchains independent of the public system and that could ultimately detract from the value of the individual unit in the ethereum system known as an ether that people have recently been buying the interest in ethereum is one sign of the corporate fascination with blockchains most major banks have expressed an interest in using them to make trading and money transfer faster and more efficient on tuesday executives from the largest banks will gather for a conference blockchain tapping i nto the real potential cutting through the hype many of these banks have recently been looking at how some version of ethereum might be put to use jpmorgan for instance has created a specific tool masala that allows some of its internal databases to interact with an ethereum blockchain michael novogratz a former top executive at the private equity firm fortress investing group who helped lead fortress s investment in bitcoin has been looking at ethereum since he left fortress last fall mr novogratz said that he made a significant purchase of ether in january he has also heard how the financial industry s chatter about the virtual currency has evolved a lot of the more established players were thinking it s still an experiment he said it feels like in the last two to three months that experiment is at least getting a lot more validation since the beginning of the year the value of an individual unit of ether has soared as high as 12 from around 1 that has brought the value of all existing ether to over 1 billion at times significantly more than any virtual currency other than bitcoin which had over 6 billion in value outstanding last week since bitcoin was invented there have been many so called alt coins that have tried to improve on bitcoin but none have won the following of ethereum unlike bitcoin which was released in by a mysterious creator known as satoshi nakamoto ethereum was created in a more transparent fashion by a year old russian canadian vitalik buterin after he dropped out of waterloo university in ontario the most basic aim of ethereum was to make it possible to program binding agreements into the blockchain the smart contract concept two people for instance could program a bet on a sports game directly into the ethereum blockchain once the final score came in from a mutually agreed upon source say the associated press the money would be automatically transferred to the winning party ether can be used as a currency in this system but ether are also necessary to pay for the network power needed to process the bet the ethereum system has sometimes been described as a single shared computer that is run by the network of users and on which resources are parceled out and paid for by ether a team of seven co founders helped mr buterin write up the software after he released the initial description of the system mr buterin s team raised 18 million in through a presale of ether which helped fund the ethereum foundation which supports the software s development like bitcoin ethereum has succeeded by attracting a dedicated network of followers who have helped support the software partly in the hope that their ether will increase in value if the system succeeds last week there were computers or nodes helping support the network around the world the bitcoin network had about nodes one of mr buterin s co founders joseph lubin has set up consensys a company based in brooklyn that has hired over developers to build applications on the ethereum system including one that enables music distribution and another that allows for a new kind of financial auditing the consensys offices are in an old industrial building in the bushwick section of brooklyn the office is essentially one large room with all the messy trademarks of a start up operation including white boards on the walls and computer parts lying around mr lubin said he had thrown himself into ethereum after starting to think that it delivered on some of the failed promise of bitcoin especially when it came to allowing new kinds of online contracts and markets bitcoin presented the broad strokes vision and ethereum presented the crystallization of how to deliver that vision he said joseph bonneau a computer science researcher at stanford who studies so called crypto currencies said ethereum was the first system that had really caught his interest since bitcoin it is far from a sure thing he cautioned bitcoin is still probably the safest bet but ethereum is certainly no and some folks will say it is more likely to be around in years mr bonneau said it will depend if any real markets develop around it if there is some actual application</td>\n",
       "      <td>[[-0.64158666, 0.53228825, 0.08459493, 0.24923134, -0.115242116, -0.9968621, 0.2724865, 0.40541232, 0.2753541, -0.25956574, 0.16442114, 0.31994802, 0.5648237, 0.28864864, -0.8923055, 0.112966344, 0.15751697, -0.39658085, 0.17147145, -0.41323248, -0.0639072, -0.7959568, 0.22311038, 0.2545831, 0.5828639, 0.1493547, -0.39242792, -0.066925324, -0.8924923, 0.22836807, -0.43815774, 0.32965523, -0.5162337, -0.08039143, 0.07331323, 1.3891171, 0.37037188, -0.024129167, 0.24850291, -0.1043157, 0.5370903, -0.21440686, -0.22434777, -0.022086576, -1.1197716, -0.43242306, 0.14538673, 0.31612006, 0.52881384, -0.6754251, -0.14973792, 0.6190325, 0.1025949, -0.27946812, -0.32372373, -0.12770806, 0.06052566, -1.2031859, -0.33057672, -0.5387159, -0.66165996, 0.30171388, -0.2517185, -0.5767353, -0.09586677, 0.3166946, 0.39409083, 0.43868798, -1.2626902, -1.5778152, 0.03575697, -0.9891464, -0.84117115, -0.7622278, 0.047528427, 0.23396145, 0.06500895, -0.022798274, 0.63134515, 0.549729, -0.5314909, 0.29416895, 0.12221334, -0.2220371, 0.79426795, 0.028905815, 0.6668217, -0.098237805, -0.1666931, 0.44139317, 0.46515507, 0.24846491, 0.9897615, -0.3047077, -1.2634721, -0.30290204, 0.109179385, 0.12003826, 0.05462286, 0.8700744, ...]]</td>\n",
       "    </tr>\n",
       "  </tbody>\n",
       "</table>\n",
       "</div>"
      ],
      "text/plain": [
       "               item_id  \\\n",
       "1 -4110354420726924665   \n",
       "\n",
       "                                                                                                                                                                                                                                                                                                                                                                                                                                                                                                                                                                                                                                                                                                                                                                                                                                                                                                                                                                                                                                                                                                                                                                                                                                                                                                                                                                                                                                                                                                                                                                                                                                                                                                                                                                                                                                                                                                                                                                                                                                                                                                                                                                                                                                                                                                                                                                                                                                                                                                                                                                                                                                                                                                                                                                                                                                                                                                                                                                                                                                                                                                                                                                                                                                                                                                                                                                                                                                                                                                                                                                                                                                                                                                                                                                                                                                                                                                                                                                                                                                                                                                                                                                                                                                                                                                                                                                                                                                                                                                                                                                                                                                                                                                                                                                                                                                                                                                                                                                                                                                                                                                                                                                                                                                                                                                                                                                                                                                                                                                                                                                                                                                                                                                                                                                                                                                                                                                                                                                                                                                                                                                                                                                                                                                                                                                                                                                                                                                                                                                                                                                                                                                                                          eng_complete_text  \\\n",
       "1  ethereum a virtual currency enables transactions that rival bitcoin s - all of this work is still very early the first full public version of the ethereum software was recently released and the system could face some of the same technical and legal problems that have tarnished bitcoin many bitcoin advocates say ethereum will face more security problems than bitcoin because of the greater complexity of the software thus far ethereum has faced much less testing and many fewer attacks than bitcoin the novel design of ethereum may also invite intense scrutiny by authorities given that potentially fraudulent contracts like the ponzi schemes can be written directly into the ethereum system but the sophisticated capabilities of the system have made it fascinating to some executives in corporate america ibm said last year that it was experimenting with ethereum as a way to control real world objects in the so called internet of things microsoft has been working on several projects that make it easier to use ethereum on its computing cloud azure ethereum is a general platform where you can solve problems in many industries using a fairly elegant solution the most elegant solution we have seen to date said marley gray a director of business development and strategy at microsoft mr gray is responsible for microsoft s work with blockchains the database concept that bitcoin introduced blockchains are designed to store transactions and data without requiring any central authority or repository blockchain ledgers are generally maintained and updated by networks of computers working together somewhat similar to the way that wikipedia is updated and maintained by all its users many corporations though have created their own ethereum networks with private blockchains independent of the public system and that could ultimately detract from the value of the individual unit in the ethereum system known as an ether that people have recently been buying the interest in ethereum is one sign of the corporate fascination with blockchains most major banks have expressed an interest in using them to make trading and money transfer faster and more efficient on tuesday executives from the largest banks will gather for a conference blockchain tapping i nto the real potential cutting through the hype many of these banks have recently been looking at how some version of ethereum might be put to use jpmorgan for instance has created a specific tool masala that allows some of its internal databases to interact with an ethereum blockchain michael novogratz a former top executive at the private equity firm fortress investing group who helped lead fortress s investment in bitcoin has been looking at ethereum since he left fortress last fall mr novogratz said that he made a significant purchase of ether in january he has also heard how the financial industry s chatter about the virtual currency has evolved a lot of the more established players were thinking it s still an experiment he said it feels like in the last two to three months that experiment is at least getting a lot more validation since the beginning of the year the value of an individual unit of ether has soared as high as 12 from around 1 that has brought the value of all existing ether to over 1 billion at times significantly more than any virtual currency other than bitcoin which had over 6 billion in value outstanding last week since bitcoin was invented there have been many so called alt coins that have tried to improve on bitcoin but none have won the following of ethereum unlike bitcoin which was released in by a mysterious creator known as satoshi nakamoto ethereum was created in a more transparent fashion by a year old russian canadian vitalik buterin after he dropped out of waterloo university in ontario the most basic aim of ethereum was to make it possible to program binding agreements into the blockchain the smart contract concept two people for instance could program a bet on a sports game directly into the ethereum blockchain once the final score came in from a mutually agreed upon source say the associated press the money would be automatically transferred to the winning party ether can be used as a currency in this system but ether are also necessary to pay for the network power needed to process the bet the ethereum system has sometimes been described as a single shared computer that is run by the network of users and on which resources are parceled out and paid for by ether a team of seven co founders helped mr buterin write up the software after he released the initial description of the system mr buterin s team raised 18 million in through a presale of ether which helped fund the ethereum foundation which supports the software s development like bitcoin ethereum has succeeded by attracting a dedicated network of followers who have helped support the software partly in the hope that their ether will increase in value if the system succeeds last week there were computers or nodes helping support the network around the world the bitcoin network had about nodes one of mr buterin s co founders joseph lubin has set up consensys a company based in brooklyn that has hired over developers to build applications on the ethereum system including one that enables music distribution and another that allows for a new kind of financial auditing the consensys offices are in an old industrial building in the bushwick section of brooklyn the office is essentially one large room with all the messy trademarks of a start up operation including white boards on the walls and computer parts lying around mr lubin said he had thrown himself into ethereum after starting to think that it delivered on some of the failed promise of bitcoin especially when it came to allowing new kinds of online contracts and markets bitcoin presented the broad strokes vision and ethereum presented the crystallization of how to deliver that vision he said joseph bonneau a computer science researcher at stanford who studies so called crypto currencies said ethereum was the first system that had really caught his interest since bitcoin it is far from a sure thing he cautioned bitcoin is still probably the safest bet but ethereum is certainly no and some folks will say it is more likely to be around in years mr bonneau said it will depend if any real markets develop around it if there is some actual application   \n",
       "\n",
       "                                                                                                                                                                                                                                                                                                                                                                                                                                                                                                                                                                                                                                                                                                                                                                                                                                                                                                                                                                                                                                                                                                                                                                                                                                                          eng_text_embeddings  \n",
       "1  [[-0.64158666, 0.53228825, 0.08459493, 0.24923134, -0.115242116, -0.9968621, 0.2724865, 0.40541232, 0.2753541, -0.25956574, 0.16442114, 0.31994802, 0.5648237, 0.28864864, -0.8923055, 0.112966344, 0.15751697, -0.39658085, 0.17147145, -0.41323248, -0.0639072, -0.7959568, 0.22311038, 0.2545831, 0.5828639, 0.1493547, -0.39242792, -0.066925324, -0.8924923, 0.22836807, -0.43815774, 0.32965523, -0.5162337, -0.08039143, 0.07331323, 1.3891171, 0.37037188, -0.024129167, 0.24850291, -0.1043157, 0.5370903, -0.21440686, -0.22434777, -0.022086576, -1.1197716, -0.43242306, 0.14538673, 0.31612006, 0.52881384, -0.6754251, -0.14973792, 0.6190325, 0.1025949, -0.27946812, -0.32372373, -0.12770806, 0.06052566, -1.2031859, -0.33057672, -0.5387159, -0.66165996, 0.30171388, -0.2517185, -0.5767353, -0.09586677, 0.3166946, 0.39409083, 0.43868798, -1.2626902, -1.5778152, 0.03575697, -0.9891464, -0.84117115, -0.7622278, 0.047528427, 0.23396145, 0.06500895, -0.022798274, 0.63134515, 0.549729, -0.5314909, 0.29416895, 0.12221334, -0.2220371, 0.79426795, 0.028905815, 0.6668217, -0.098237805, -0.1666931, 0.44139317, 0.46515507, 0.24846491, 0.9897615, -0.3047077, -1.2634721, -0.30290204, 0.109179385, 0.12003826, 0.05462286, 0.8700744, ...]]  "
      ]
     },
     "execution_count": 89,
     "metadata": {},
     "output_type": "execute_result"
    }
   ],
   "source": [
    "#embedding generation from gen text\n",
    "\n",
    "model_class_eng = 'bert-base-nli-mean-tokens'\n",
    "embed_eng = SentenceTransformer(model_class_eng)\n",
    "# corpus_embeddings = embed_eng.encode(corpus)\n",
    "plat_articles_english = plat_articles_english[:10]\n",
    "plat_articles_english['eng_text_embeddings'] = plat_articles_english.apply(lambda x: embed_eng.encode(x.eng_complete_text), axis=1)\n",
    "plat_articles_english.head(1)\n"
   ]
  },
  {
   "cell_type": "markdown",
   "metadata": {},
   "source": [
    "### Calculating similarities for items of both languages in there respective languages"
   ]
  },
  {
   "cell_type": "code",
   "execution_count": null,
   "metadata": {},
   "outputs": [],
   "source": [
    "### Portuguese Articles"
   ]
  },
  {
   "cell_type": "code",
   "execution_count": 16,
   "metadata": {},
   "outputs": [],
   "source": [
    "# plat_articles_port\n",
    "# plat_articles_english\n",
    "\n",
    "def embedding_generation(sentence):\n",
    "    \n",
    "    # getting bert for portuguese text\n",
    "    tokenizer = AutoTokenizer.from_pretrained('neuralmind/bert-base-portuguese-cased')\n",
    "    model = AutoModel.from_pretrained('neuralmind/bert-base-portuguese-cased')\n",
    "    # encoding text\n",
    "    input_ids = torch.tensor([tokenizer.encode(str(sentence), add_special_tokens=True)])\n",
    "    model = model.resize_token_embeddings(len(tokenizer))\n",
    "    # special tokens takes care of adding [CLS], [SEP], <s>... tokens in the right way for each model.\n",
    "    with torch.no_grad():\n",
    "         last_hidden_states = model(input_ids)[0]  # Models outputs are now tuples\n",
    "              \n",
    "    return last_hidden_states.numpy()\n",
    "\n",
    "port_model_class = 'neuralmind/bert-base-portuguese-cased'\n",
    "port_article_list = port_plat_articles_all['port_complete_text'].tolist()[:2]#.to_numpy()#.tolist()[:10]\n",
    "port_corpus_embed = list(map(lambda x : embedding_generation(x),port_article_list))\n",
    "# article_embed = plat_articles_english['eng_text_embeddings']#.to_numpy() #numpy.asarray(plat_articles_english['eng_text_embeddings'].tolist(), dtype=numpy.float32) #plat_articles_english['eng_text_embeddings'].tolist()[:10]\n",
    "port_item_id_list = plat_articles_port['item_id'].tolist()\n",
    " "
   ]
  },
  {
   "cell_type": "code",
   "execution_count": 44,
   "metadata": {},
   "outputs": [
    {
     "data": {
      "text/plain": [
       "451"
      ]
     },
     "execution_count": 44,
     "metadata": {},
     "output_type": "execute_result"
    }
   ],
   "source": [
    "# port_corpus_embed[:2]\n",
    "len(port_article_list[1].split(' '))\n",
    "# port_article_list[1]"
   ]
  },
  {
   "cell_type": "code",
   "execution_count": 26,
   "metadata": {},
   "outputs": [
    {
     "name": "stdout",
     "output_type": "stream",
     "text": [
      "(0,)\n"
     ]
    }
   ],
   "source": [
    "import numpy as np\n",
    "print(np.array(port_corpus_embed[1:1]).shape)"
   ]
  },
  {
   "cell_type": "code",
   "execution_count": null,
   "metadata": {},
   "outputs": [],
   "source": []
  },
  {
   "cell_type": "code",
   "execution_count": 99,
   "metadata": {},
   "outputs": [],
   "source": [
    "# plat_articles_port\n",
    "# plat_articles_english\n",
    "### English Articles\n",
    "\n",
    "eng_corpus_embed = embed_eng.encode(plat_articles_english['eng_complete_text'].tolist())\n",
    "article_list = plat_articles_english['eng_complete_text'].tolist()\n",
    "item_id_list = plat_articles_english['item_id'].tolist()"
   ]
  },
  {
   "cell_type": "code",
   "execution_count": 102,
   "metadata": {},
   "outputs": [
    {
     "name": "stdout",
     "output_type": "stream",
     "text": [
      "(768,) <class 'numpy.ndarray'>\n",
      "\n",
      "\n",
      "======================\n",
      "\n",
      "\n",
      "Query: -4110354420726924665\n",
      "\n",
      "Top 5 most similar sentences in corpus:\n",
      "-7926018713416777892 (Score: 0.8227)\n",
      "-2148899391355011268 (Score: 0.8136)\n",
      "2448026894306402386 (Score: 0.7563)\n",
      "-7292285110016212249 (Score: 0.7445)\n",
      "3353902017498793780 (Score: 0.7366)\n",
      "(768,) <class 'numpy.ndarray'>\n",
      "\n",
      "\n",
      "======================\n",
      "\n",
      "\n",
      "Query: -7292285110016212249\n",
      "\n",
      "Top 5 most similar sentences in corpus:\n",
      "3353902017498793780 (Score: 0.7866)\n",
      "-7926018713416777892 (Score: 0.7773)\n",
      "2448026894306402386 (Score: 0.7630)\n",
      "-4110354420726924665 (Score: 0.7445)\n",
      "4119190424078847945 (Score: 0.7023)\n",
      "(768,) <class 'numpy.ndarray'>\n",
      "\n",
      "\n",
      "======================\n",
      "\n",
      "\n",
      "Query: -6151852268067518688\n",
      "\n",
      "Top 5 most similar sentences in corpus:\n",
      "2448026894306402386 (Score: 0.6361)\n",
      "-7292285110016212249 (Score: 0.6235)\n",
      "-2826566343807132236 (Score: 0.5982)\n",
      "-7926018713416777892 (Score: 0.5815)\n",
      "3353902017498793780 (Score: 0.5626)\n",
      "(768,) <class 'numpy.ndarray'>\n",
      "\n",
      "\n",
      "======================\n",
      "\n",
      "\n",
      "Query: 2448026894306402386\n",
      "\n",
      "Top 5 most similar sentences in corpus:\n",
      "-7926018713416777892 (Score: 0.7949)\n",
      "-7292285110016212249 (Score: 0.7630)\n",
      "-4110354420726924665 (Score: 0.7563)\n",
      "-2826566343807132236 (Score: 0.7557)\n",
      "3353902017498793780 (Score: 0.7535)\n",
      "(768,) <class 'numpy.ndarray'>\n",
      "\n",
      "\n",
      "======================\n",
      "\n",
      "\n",
      "Query: -2826566343807132236\n",
      "\n",
      "Top 5 most similar sentences in corpus:\n",
      "2448026894306402386 (Score: 0.7557)\n",
      "3353902017498793780 (Score: 0.7117)\n",
      "-7292285110016212249 (Score: 0.6763)\n",
      "-7926018713416777892 (Score: 0.6506)\n",
      "-6151852268067518688 (Score: 0.5982)\n",
      "(768,) <class 'numpy.ndarray'>\n",
      "\n",
      "\n",
      "======================\n",
      "\n",
      "\n",
      "Query: -2148899391355011268\n",
      "\n",
      "Top 5 most similar sentences in corpus:\n",
      "-4110354420726924665 (Score: 0.8136)\n",
      "-7926018713416777892 (Score: 0.7684)\n",
      "4119190424078847945 (Score: 0.7242)\n",
      "2448026894306402386 (Score: 0.7081)\n",
      "-7292285110016212249 (Score: 0.6262)\n",
      "(768,) <class 'numpy.ndarray'>\n",
      "\n",
      "\n",
      "======================\n",
      "\n",
      "\n",
      "Query: 4119190424078847945\n",
      "\n",
      "Top 5 most similar sentences in corpus:\n",
      "-2148899391355011268 (Score: 0.7242)\n",
      "-4110354420726924665 (Score: 0.7085)\n",
      "2448026894306402386 (Score: 0.7076)\n",
      "-7292285110016212249 (Score: 0.7023)\n",
      "-7926018713416777892 (Score: 0.6589)\n",
      "(768,) <class 'numpy.ndarray'>\n",
      "\n",
      "\n",
      "======================\n",
      "\n",
      "\n",
      "Query: -7926018713416777892\n",
      "\n",
      "Top 5 most similar sentences in corpus:\n",
      "-4110354420726924665 (Score: 0.8227)\n",
      "2448026894306402386 (Score: 0.7949)\n",
      "-7292285110016212249 (Score: 0.7773)\n",
      "-2148899391355011268 (Score: 0.7684)\n",
      "3353902017498793780 (Score: 0.7544)\n",
      "(768,) <class 'numpy.ndarray'>\n",
      "\n",
      "\n",
      "======================\n",
      "\n",
      "\n",
      "Query: 3353902017498793780\n",
      "\n",
      "Top 5 most similar sentences in corpus:\n",
      "-7292285110016212249 (Score: 0.7866)\n",
      "-7926018713416777892 (Score: 0.7544)\n",
      "2448026894306402386 (Score: 0.7535)\n",
      "-4110354420726924665 (Score: 0.7366)\n",
      "-2826566343807132236 (Score: 0.7117)\n",
      "(768,) <class 'numpy.ndarray'>\n",
      "\n",
      "\n",
      "======================\n",
      "\n",
      "\n",
      "Query: 1805789466376069146\n",
      "\n",
      "Top 5 most similar sentences in corpus:\n",
      "2448026894306402386 (Score: 0.5539)\n",
      "-7926018713416777892 (Score: 0.5486)\n",
      "-4110354420726924665 (Score: 0.5380)\n",
      "-6151852268067518688 (Score: 0.5135)\n",
      "-7292285110016212249 (Score: 0.4948)\n"
     ]
    }
   ],
   "source": [
    "import scipy.spatial\n",
    "import numpy as np\n",
    "# Find the closest 5 sentences of the eng_corpus for each query sentence based on cosine similarity\n",
    "closest_n = 6\n",
    "similar_items = {}\n",
    "for id, query, query_embedding in zip(item_id_list,article_list, eng_corpus_embed):\n",
    "    print(np.array(query_embedding).shape,type(query_embedding))\n",
    "    dist = scipy.spatial.distance.cdist([query_embedding], eng_corpus_embed, \"cosine\")[0]\n",
    "\n",
    "    res = zip(range(len(dist)), dist)\n",
    "    res = sorted(res, key=lambda x: x[1])\n",
    "\n",
    "    print(\"\\n\\n======================\\n\\n\")\n",
    "    print(\"Query:\",query)\n",
    "    print(\"\\nTop 5 most similar sentences in corpus:\")\n",
    "    \n",
    "    art_ids = []\n",
    "    #excluding similar sentence 1 which is same as query\n",
    "    for idx, distance in res[1:closest_n]:\n",
    "        \n",
    "        art_ids.append((str(item_id_list[idx]),(1-distance))) \n",
    "        print(article_list[idx], \"(Score: %.4f)\" % (1-distance))\n",
    "    similar_items.update({str(id):art_ids})"
   ]
  },
  {
   "cell_type": "code",
   "execution_count": 103,
   "metadata": {
    "collapsed": true,
    "jupyter": {
     "outputs_hidden": true
    }
   },
   "outputs": [
    {
     "data": {
      "text/plain": [
       "{'-4110354420726924665': [('-7926018713416777892', 0.8227109494395495),\n",
       "  ('-2148899391355011268', 0.8135846824401898),\n",
       "  ('2448026894306402386', 0.7563021908377766),\n",
       "  ('-7292285110016212249', 0.7444880890590411),\n",
       "  ('3353902017498793780', 0.7365608524203918)],\n",
       " '-7292285110016212249': [('3353902017498793780', 0.7865576688820212),\n",
       "  ('-7926018713416777892', 0.7773004682106526),\n",
       "  ('2448026894306402386', 0.7630085641170508),\n",
       "  ('-4110354420726924665', 0.7444880890590411),\n",
       "  ('4119190424078847945', 0.702261658662254)],\n",
       " '-6151852268067518688': [('2448026894306402386', 0.6360599426048656),\n",
       "  ('-7292285110016212249', 0.6235453001996863),\n",
       "  ('-2826566343807132236', 0.5982328199312373),\n",
       "  ('-7926018713416777892', 0.5815126136991144),\n",
       "  ('3353902017498793780', 0.5625766256164919)],\n",
       " '2448026894306402386': [('-7926018713416777892', 0.7948928334624842),\n",
       "  ('-7292285110016212249', 0.7630085641170508),\n",
       "  ('-4110354420726924665', 0.7563021908377766),\n",
       "  ('-2826566343807132236', 0.7556708322946805),\n",
       "  ('3353902017498793780', 0.7535014584226902)],\n",
       " '-2826566343807132236': [('2448026894306402386', 0.7556708322946805),\n",
       "  ('3353902017498793780', 0.7116634542209107),\n",
       "  ('-7292285110016212249', 0.6762507909624325),\n",
       "  ('-7926018713416777892', 0.6505760583755748),\n",
       "  ('-6151852268067518688', 0.5982328199312373)],\n",
       " '-2148899391355011268': [('-4110354420726924665', 0.8135846824401898),\n",
       "  ('-7926018713416777892', 0.7684213429338553),\n",
       "  ('4119190424078847945', 0.7242026112509694),\n",
       "  ('2448026894306402386', 0.7080992535640245),\n",
       "  ('-7292285110016212249', 0.6262316722474953)],\n",
       " '4119190424078847945': [('-2148899391355011268', 0.7242026112509694),\n",
       "  ('-4110354420726924665', 0.708485650337048),\n",
       "  ('2448026894306402386', 0.7076084179698838),\n",
       "  ('-7292285110016212249', 0.702261658662254),\n",
       "  ('-7926018713416777892', 0.6588747652343208)],\n",
       " '-7926018713416777892': [('-4110354420726924665', 0.8227109494395495),\n",
       "  ('2448026894306402386', 0.7948928334624842),\n",
       "  ('-7292285110016212249', 0.7773004682106526),\n",
       "  ('-2148899391355011268', 0.7684213429338553),\n",
       "  ('3353902017498793780', 0.7543681706593725)],\n",
       " '3353902017498793780': [('-7292285110016212249', 0.7865576688820212),\n",
       "  ('-7926018713416777892', 0.7543681706593725),\n",
       "  ('2448026894306402386', 0.7535014584226902),\n",
       "  ('-4110354420726924665', 0.7365608524203918),\n",
       "  ('-2826566343807132236', 0.7116634542209107)],\n",
       " '1805789466376069146': [('2448026894306402386', 0.5538521141092785),\n",
       "  ('-7926018713416777892', 0.5486114089398612),\n",
       "  ('-4110354420726924665', 0.5379865988180172),\n",
       "  ('-6151852268067518688', 0.5135176452176344),\n",
       "  ('-7292285110016212249', 0.49481040958908573)]}"
      ]
     },
     "execution_count": 103,
     "metadata": {},
     "output_type": "execute_result"
    }
   ],
   "source": [
    "print(np.array(article_list).shape)\n",
    "similar_items\n"
   ]
  },
  {
   "cell_type": "code",
   "execution_count": 110,
   "metadata": {},
   "outputs": [],
   "source": [
    "# dataframe with query id and top 5 similar items with similarity scores\n",
    "\n",
    "eng_recommendation_df = pd.DataFrame(list(similar_items.items()),\n",
    "                   columns=['query_id', 'recommendations'])\n",
    "\n",
    "eng_recommendation_df.to_csv(\"transformer_reco_eng.csv\")"
   ]
  },
  {
   "cell_type": "code",
   "execution_count": null,
   "metadata": {},
   "outputs": [],
   "source": [
    "\n"
   ]
  },
  {
   "cell_type": "code",
   "execution_count": null,
   "metadata": {},
   "outputs": [],
   "source": []
  },
  {
   "cell_type": "code",
   "execution_count": null,
   "metadata": {},
   "outputs": [],
   "source": []
  },
  {
   "cell_type": "code",
   "execution_count": null,
   "metadata": {},
   "outputs": [],
   "source": []
  }
 ],
 "metadata": {
  "kernelspec": {
   "display_name": "Python 3",
   "language": "python",
   "name": "python3"
  },
  "language_info": {
   "codemirror_mode": {
    "name": "ipython",
    "version": 3
   },
   "file_extension": ".py",
   "mimetype": "text/x-python",
   "name": "python",
   "nbconvert_exporter": "python",
   "pygments_lexer": "ipython3",
   "version": "3.7.4"
  }
 },
 "nbformat": 4,
 "nbformat_minor": 4
}
